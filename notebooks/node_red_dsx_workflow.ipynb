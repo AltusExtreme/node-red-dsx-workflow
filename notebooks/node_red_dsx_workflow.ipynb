{
 "cells": [
  {
   "cell_type": "markdown",
   "metadata": {},
   "source": [
    "# Derive insights on Olympics data using Python Pandas \n",
    "### <font color='blue'> Expose an integration point using websockets for orchestration with Node-RED.</font>"
   ]
  },
  {
   "cell_type": "markdown",
   "metadata": {},
   "source": [
    "## 1. Setup\n",
    "To prepare your environment, you need to install some packages.\n",
    "\n",
    "### 1.1 Install the necessary packages\n",
    "\n",
    "You need the latest versions of these packages:<br>\n",
    "- websocket-client: is a python client for the Websockets.<br>\n",
    "- python-swiftclient: is a python client for the Swift API.<br><br>\n",
    "\n",
    "** Install the websocket client: **"
   ]
  },
  {
   "cell_type": "code",
   "execution_count": 1,
   "metadata": {},
   "outputs": [
    {
     "name": "stdout",
     "output_type": "stream",
     "text": [
      "Requirement already satisfied: websocket-client in /gpfs/global_fs01/sym_shared/YPProdSpark/user/s973-7d640fb4db0d6f-c5c16a29391b/.local/lib/python2.7/site-packages\r\n",
      "Requirement already satisfied: six in /usr/local/src/bluemix_jupyter_bundle.v55/notebook/lib/python2.7/site-packages (from websocket-client)\r\n"
     ]
    }
   ],
   "source": [
    "!pip install websocket-client"
   ]
  },
  {
   "cell_type": "markdown",
   "metadata": {},
   "source": [
    "** Install IBM Bluemix Object Storage Client: **"
   ]
  },
  {
   "cell_type": "code",
   "execution_count": 2,
   "metadata": {},
   "outputs": [
    {
     "name": "stdout",
     "output_type": "stream",
     "text": [
      "Requirement already satisfied: python-swiftclient in /gpfs/global_fs01/sym_shared/YPProdSpark/user/s973-7d640fb4db0d6f-c5c16a29391b/.local/lib/python2.7/site-packages\n",
      "Requirement already satisfied: requests>=1.1 in /gpfs/global_fs01/sym_shared/YPProdSpark/user/s973-7d640fb4db0d6f-c5c16a29391b/.local/lib/python2.7/site-packages (from python-swiftclient)\n",
      "Requirement already satisfied: futures>=3.0; python_version == \"2.7\" or python_version == \"2.6\" in /usr/local/src/bluemix_jupyter_bundle.v55/notebook/lib/python2.7/site-packages (from python-swiftclient)\n",
      "Requirement already satisfied: six>=1.5.2 in /usr/local/src/bluemix_jupyter_bundle.v55/notebook/lib/python2.7/site-packages (from python-swiftclient)\n",
      "Requirement already satisfied: idna<2.6,>=2.5 in /gpfs/global_fs01/sym_shared/YPProdSpark/user/s973-7d640fb4db0d6f-c5c16a29391b/.local/lib/python2.7/site-packages (from requests>=1.1->python-swiftclient)\n",
      "Requirement already satisfied: urllib3<1.22,>=1.21.1 in /gpfs/global_fs01/sym_shared/YPProdSpark/user/s973-7d640fb4db0d6f-c5c16a29391b/.local/lib/python2.7/site-packages (from requests>=1.1->python-swiftclient)\n",
      "Requirement already satisfied: chardet<3.1.0,>=3.0.2 in /gpfs/global_fs01/sym_shared/YPProdSpark/user/s973-7d640fb4db0d6f-c5c16a29391b/.local/lib/python2.7/site-packages (from requests>=1.1->python-swiftclient)\n",
      "Requirement already satisfied: certifi>=2017.4.17 in /gpfs/global_fs01/sym_shared/YPProdSpark/user/s973-7d640fb4db0d6f-c5c16a29391b/.local/lib/python2.7/site-packages (from requests>=1.1->python-swiftclient)\n"
     ]
    }
   ],
   "source": [
    "!pip install python-swiftclient"
   ]
  },
  {
   "cell_type": "markdown",
   "metadata": {},
   "source": [
    "### 1.2 Import packages and libraries\n",
    "\n",
    "Import the packages and libraries that you'll use:"
   ]
  },
  {
   "cell_type": "code",
   "execution_count": 3,
   "metadata": {
    "collapsed": true
   },
   "outputs": [],
   "source": [
    "import pandas as pd\n",
    "import matplotlib.pyplot as plt\n",
    "import json\n",
    "import websocket\n",
    "import thread\n",
    "import time\n",
    "import swiftclient\n",
    "import codecs\n",
    "from io import StringIO"
   ]
  },
  {
   "cell_type": "markdown",
   "metadata": {},
   "source": [
    "## 2. Configuration\n",
    "\n",
    "Add configurable items of the notebook below"
   ]
  },
  {
   "cell_type": "markdown",
   "metadata": {},
   "source": [
    "### 2.1 Add your service credentials for Object Storage\n",
    "\n",
    "You must create Object Storage service on Bluemix.\n",
    "To access data in a file in Object Storage, you need the Object Storage authentication credentials.\n",
    "Insert the Object Storage authentication credentials as <i><b>credentials_1</b></i> in the following cell after \n",
    "removing the current contents in the cell. "
   ]
  },
  {
   "cell_type": "code",
   "execution_count": 4,
   "metadata": {
    "collapsed": true
   },
   "outputs": [],
   "source": [
    "# @hidden_cell\n",
    "credentials_1 = {\n",
    "  'auth_url':'https://identity.open.softlayer.com',\n",
    "  'project':'object_storage_5fb1ce0f_6a6f_431b_8c75_652f4cfdc454',\n",
    "  'project_id':'63d358127185445ea99ea6f6ba08ef0d',\n",
    "  'region':'dallas',\n",
    "  'user_id':'8e32d21adc3d42e3a76dadcc9b63a460',\n",
    "  'domain_id':'14638fcddb2b424ebfaaa0cc0676944d',\n",
    "  'domain_name':'1143539',\n",
    "  'username':'member_20177d52c4d142604aedc2cced3eea1016c751aa',\n",
    "  'password':\"\"\"j0~uJQF^30.ZH(P=\"\"\",\n",
    "  'container':'JourneyTwo',\n",
    "  'tenantId':'undefined',\n",
    "  'filename':'olympics.csv'\n",
    "}\n"
   ]
  },
  {
   "cell_type": "markdown",
   "metadata": {},
   "source": [
    "### 2.3 Global Variables\n",
    "\n",
    "Add global variables."
   ]
  },
  {
   "cell_type": "code",
   "execution_count": 5,
   "metadata": {
    "collapsed": true
   },
   "outputs": [],
   "source": [
    "olympics_data_filename = 'olympics.csv'\n",
    "dictionary_data_filename = 'dictionary.csv'"
   ]
  },
  {
   "cell_type": "markdown",
   "metadata": {},
   "source": [
    "# 3. Persistence and Storage"
   ]
  },
  {
   "cell_type": "markdown",
   "metadata": {},
   "source": [
    "### 3.1 Configure Object Storage Client"
   ]
  },
  {
   "cell_type": "code",
   "execution_count": 6,
   "metadata": {
    "collapsed": true
   },
   "outputs": [],
   "source": [
    "auth_url = credentials_1['auth_url']+\"/v3\"\n",
    "container = credentials_1[\"container\"]\n",
    "\n",
    "IBM_Objectstorage_Connection = swiftclient.Connection(\n",
    "    key=credentials_1['password'], authurl=auth_url, auth_version='3', os_options={\n",
    "        \"project_id\": credentials_1['project_id'], \"user_id\": credentials_1['user_id'], \"region_name\": credentials_1['region']})\n",
    "\n",
    "def create_container(container_name):\n",
    "    \"\"\" Create a container on Object Storage.\n",
    "    \"\"\"\n",
    "    x = IBM_Objectstorage_Connection.put_container(container_name)\n",
    "    return x\n",
    "\n",
    "def put_object(container_name, fname, contents, content_type):\n",
    "    \"\"\" Write contents to Object Storage.\n",
    "    \"\"\"\n",
    "    x = IBM_Objectstorage_Connection.put_object(\n",
    "        container_name,\n",
    "        fname,\n",
    "        contents,\n",
    "        content_type)\n",
    "    return x\n",
    "\n",
    "def get_object(container_name, fname):\n",
    "    \"\"\" Retrieve contents from Object Storage.\n",
    "    \"\"\"\n",
    "    Object_Store_file_details = IBM_Objectstorage_Connection.get_object(\n",
    "        container_name, fname)\n",
    "    return Object_Store_file_details[1]"
   ]
  },
  {
   "cell_type": "markdown",
   "metadata": {},
   "source": [
    "# 4. Data "
   ]
  },
  {
   "cell_type": "markdown",
   "metadata": {},
   "source": [
    "### 4.1 Prepare data\n",
    "Combine the olympics and dictionary data into a single dataframe:\n",
    "- Read olympics data from Object Storage.<br>\n",
    "- Rename columns<br>\n",
    "- Populate the data in the dictionary to the Olympics data with a merge<br><br>"
   ]
  },
  {
   "cell_type": "code",
   "execution_count": 7,
   "metadata": {
    "scrolled": true
   },
   "outputs": [
    {
     "data": {
      "text/html": [
       "<div>\n",
       "<table border=\"1\" class=\"dataframe\">\n",
       "  <thead>\n",
       "    <tr style=\"text-align: right;\">\n",
       "      <th></th>\n",
       "      <th>City</th>\n",
       "      <th>Edition</th>\n",
       "      <th>Sport</th>\n",
       "      <th>Discipline</th>\n",
       "      <th>Athlete</th>\n",
       "      <th>Code</th>\n",
       "      <th>Gender</th>\n",
       "      <th>Event</th>\n",
       "      <th>Event_gender</th>\n",
       "      <th>Medal</th>\n",
       "      <th>Country</th>\n",
       "      <th>Population</th>\n",
       "      <th>GDP per Capita</th>\n",
       "    </tr>\n",
       "  </thead>\n",
       "  <tbody>\n",
       "    <tr>\n",
       "      <th>0</th>\n",
       "      <td>Athens</td>\n",
       "      <td>1896</td>\n",
       "      <td>Aquatics</td>\n",
       "      <td>Swimming</td>\n",
       "      <td>HAJOS, Alfred</td>\n",
       "      <td>HUN</td>\n",
       "      <td>Men</td>\n",
       "      <td>100m freestyle</td>\n",
       "      <td>M</td>\n",
       "      <td>Gold</td>\n",
       "      <td>Hungary</td>\n",
       "      <td>9844686</td>\n",
       "      <td>12363.54346</td>\n",
       "    </tr>\n",
       "    <tr>\n",
       "      <th>1</th>\n",
       "      <td>Athens</td>\n",
       "      <td>1896</td>\n",
       "      <td>Aquatics</td>\n",
       "      <td>Swimming</td>\n",
       "      <td>HAJOS, Alfred</td>\n",
       "      <td>HUN</td>\n",
       "      <td>Men</td>\n",
       "      <td>1200m freestyle</td>\n",
       "      <td>M</td>\n",
       "      <td>Gold</td>\n",
       "      <td>Hungary</td>\n",
       "      <td>9844686</td>\n",
       "      <td>12363.54346</td>\n",
       "    </tr>\n",
       "    <tr>\n",
       "      <th>2</th>\n",
       "      <td>Athens</td>\n",
       "      <td>1896</td>\n",
       "      <td>Athletics</td>\n",
       "      <td>Athletics</td>\n",
       "      <td>SZOKOLYI, Alajos</td>\n",
       "      <td>HUN</td>\n",
       "      <td>Men</td>\n",
       "      <td>100m</td>\n",
       "      <td>M</td>\n",
       "      <td>Bronze</td>\n",
       "      <td>Hungary</td>\n",
       "      <td>9844686</td>\n",
       "      <td>12363.54346</td>\n",
       "    </tr>\n",
       "    <tr>\n",
       "      <th>3</th>\n",
       "      <td>Athens</td>\n",
       "      <td>1896</td>\n",
       "      <td>Athletics</td>\n",
       "      <td>Athletics</td>\n",
       "      <td>DANI, Nandor</td>\n",
       "      <td>HUN</td>\n",
       "      <td>Men</td>\n",
       "      <td>800m</td>\n",
       "      <td>M</td>\n",
       "      <td>Silver</td>\n",
       "      <td>Hungary</td>\n",
       "      <td>9844686</td>\n",
       "      <td>12363.54346</td>\n",
       "    </tr>\n",
       "    <tr>\n",
       "      <th>4</th>\n",
       "      <td>Athens</td>\n",
       "      <td>1896</td>\n",
       "      <td>Athletics</td>\n",
       "      <td>Athletics</td>\n",
       "      <td>KELLNER, Gyula</td>\n",
       "      <td>HUN</td>\n",
       "      <td>Men</td>\n",
       "      <td>marathon</td>\n",
       "      <td>M</td>\n",
       "      <td>Bronze</td>\n",
       "      <td>Hungary</td>\n",
       "      <td>9844686</td>\n",
       "      <td>12363.54346</td>\n",
       "    </tr>\n",
       "  </tbody>\n",
       "</table>\n",
       "</div>"
      ],
      "text/plain": [
       "     City  Edition      Sport Discipline           Athlete Code Gender  \\\n",
       "0  Athens     1896   Aquatics   Swimming     HAJOS, Alfred  HUN    Men   \n",
       "1  Athens     1896   Aquatics   Swimming     HAJOS, Alfred  HUN    Men   \n",
       "2  Athens     1896  Athletics  Athletics  SZOKOLYI, Alajos  HUN    Men   \n",
       "3  Athens     1896  Athletics  Athletics      DANI, Nandor  HUN    Men   \n",
       "4  Athens     1896  Athletics  Athletics    KELLNER, Gyula  HUN    Men   \n",
       "\n",
       "             Event Event_gender   Medal  Country  Population  GDP per Capita  \n",
       "0   100m freestyle            M    Gold  Hungary     9844686     12363.54346  \n",
       "1  1200m freestyle            M    Gold  Hungary     9844686     12363.54346  \n",
       "2             100m            M  Bronze  Hungary     9844686     12363.54346  \n",
       "3             800m            M  Silver  Hungary     9844686     12363.54346  \n",
       "4         marathon            M  Bronze  Hungary     9844686     12363.54346  "
      ]
     },
     "execution_count": 7,
     "metadata": {},
     "output_type": "execute_result"
    }
   ],
   "source": [
    "olympics = pd.read_csv(StringIO(get_object(container, olympics_data_filename).decode('utf-8')))\n",
    "olympics = olympics.rename(columns = {'NOC':'Code'})\n",
    "dictionary = pd.read_csv(StringIO(get_object(container, dictionary_data_filename).decode('utf-8')))\n",
    "olympics = pd.merge(olympics, dictionary, on='Code')\n",
    "olympics.head()"
   ]
  },
  {
   "cell_type": "markdown",
   "metadata": {},
   "source": [
    "# 5. Insights on the data using Python Pandas\n",
    "- Create re-usable functions"
   ]
  },
  {
   "cell_type": "code",
   "execution_count": 8,
   "metadata": {
    "collapsed": true
   },
   "outputs": [],
   "source": [
    "def get_medals_gb_year_country():\n",
    "    \"\"\" Group by edition and country and sum medals count.\n",
    "    \"\"\"\n",
    "    medals_groupedBy_yearCountry = olympics.groupby(['Edition','Code']).apply(lambda country: country['Code'].count())\n",
    "    return medals_groupedBy_yearCountry\n",
    "\n",
    "def get_medals_gb_year_country_medal():\n",
    "    \"\"\" Group by edition, country, medal type and sum medals count.\n",
    "    \"\"\"\n",
    "    medals_groupedBy_yearCountryMedal = olympics.groupby(['Edition', 'Code', 'Medal']).apply(lambda country: country['Medal'].count())\n",
    "    return medals_groupedBy_yearCountryMedal\n",
    "\n",
    "def get_medals_last_10_years(countrycode):\n",
    "    \"\"\" Get Gold, Silver and Bronze medals for a country for last 10 editions.\n",
    "    \"\"\"\n",
    "    last10pics = olympics['Edition'].unique()\n",
    "    yrs = pd.Series(last10pics).nlargest(10)\n",
    "    df = pd.DataFrame([], columns=['Year', 'Gold', 'Silver', 'Bronze'])\n",
    "    medalsdf = get_medals_gb_year_country_medal()\n",
    "   \n",
    "    for yr in yrs:\n",
    "        medaltally = medalsdf[yr][countrycode]\n",
    "        gold = 0\n",
    "        silver = 0\n",
    "        bronze = 0\n",
    "        if 'Gold' in medaltally:\n",
    "            gold = medaltally['Gold']\n",
    "        if 'Silver' in medaltally:\n",
    "            silver = medaltally['Silver']\n",
    "        if 'Bronze' in medaltally:\n",
    "            bronze =  medaltally['Bronze']\n",
    "        df1 = pd.DataFrame([[yr,gold, silver, bronze]], columns=['Year', 'Gold', 'Silver', 'Bronze'])\n",
    "        df = df.append(df1, ignore_index=True) \n",
    "    df = df.sort_values(by=['Year'], ascending=True)    \n",
    "    df = df.reset_index()\n",
    "    del df['index']\n",
    "    return df\n",
    "\n",
    "def get_correlation_medalstally():\n",
    "    \"\"\" Get correlation between the medals tally and population, GDP per capita.\n",
    "    \"\"\"\n",
    "    df = get_medals_gb_year_country()\n",
    "    values  = get_all_olympic_years().values\n",
    "    size = values.size\n",
    "    correlations = []\n",
    "    for i in range(size):\n",
    "        year = values[i][0]\n",
    "        df1 = df[year].to_frame(name=\"Tally\")\n",
    "        df1 = df1.reset_index()\n",
    "        df2 = pd.merge(df1,dictionary, on='Code')\n",
    "        corrpop = df2.corr().values[0][1]\n",
    "        corrgdp = df2.corr().values[0][2]\n",
    "        resp = {\"Year\": year, \"Population\":corrpop, \"GDP\":corrgdp}\n",
    "        correlations.append(resp)\n",
    "    return correlations  \n",
    "\n",
    "def get_medals_category(countrycode, year):\n",
    "    \"\"\" Get the medals count in different sports category for a country in an edition.\n",
    "    \"\"\"\n",
    "    df = olympics[olympics['Edition'] ==  year]\n",
    "    df1 = df[df['Code'] == countrycode]\n",
    "    df2 = df.groupby(['Sport']).apply(lambda country: country['Medal'].count())\n",
    "    return df2\n",
    "\n",
    "def get_medals_category_all(countrycode):  \n",
    "    \"\"\" Get the medals count in different sports category for a country for last ten editions.\n",
    "    \"\"\"\n",
    "    df1 = olympics[olympics['Code'] == countrycode]\n",
    "    df2 = df1.groupby(['Sport']).apply(lambda country: country['Medal'].count())\n",
    "    return df2\n",
    "\n",
    "def get_top_ten_gold_tally(year):\n",
    "    \"\"\" Get the top ten gold medal winning countries in an edition.\n",
    "    \"\"\"\n",
    "    df = olympics[olympics['Edition'] ==  year]\n",
    "    df1 = df[df['Medal'] == 'Gold']\n",
    "    df2 = df1.groupby(['Code']).apply(lambda country: country['Medal'].count())\n",
    "    return df2\n",
    "\n",
    "def get_top_ten_total_tally(year):\n",
    "    \"\"\" Get the top ten total medal winning countries in an edition.\n",
    "    \"\"\"\n",
    "    df = olympics[olympics['Edition'] ==  year]\n",
    "    df1 = df.groupby(['Code']).apply(lambda country: country['Medal'].count())\n",
    "    return df1\n",
    "\n",
    "def get_year_venue():\n",
    "    \"\"\" Get edition venue matrix.\n",
    "    \"\"\"\n",
    "    df = olympics[['Edition', 'City']]\n",
    "    df = df.drop_duplicates()\n",
    "    df = df.reset_index()\n",
    "    df = df.set_index('Edition')\n",
    "    del df['index']\n",
    "    return df.sort_index()\n",
    "\n",
    "def get_all_olympic_years():\n",
    "    \"\"\" Get list of all olympic editions.\n",
    "    \"\"\"\n",
    "    df = olympics['Edition']\n",
    "    df = df.drop_duplicates()\n",
    "    df = df.reset_index()\n",
    "    del df['index']\n",
    "    return df.sort_index()\n",
    "\n",
    "def get_all_countries():\n",
    "    \"\"\" Get list of all countries.\n",
    "    \"\"\"\n",
    "    df = olympics[['Code','Country']]\n",
    "    df = df.drop_duplicates()\n",
    "    df = df.reset_index()\n",
    "    del df['index']\n",
    "    return df.sort(['Country'],ascending=[True])\n",
    "\n",
    "def get_country_edition_data(countrycode,edition):\n",
    "    \"\"\" Get data for a country and edition.\n",
    "    \"\"\"\n",
    "    df = olympics[olympics[\"Code\"] == countrycode]\n",
    "    df1 = df[df[\"Edition\"] == edition]\n",
    "    return df1"
   ]
  },
  {
   "cell_type": "markdown",
   "metadata": {},
   "source": [
    "# 6. Expose integration point with a websocket client "
   ]
  },
  {
   "cell_type": "code",
   "execution_count": 12,
   "metadata": {},
   "outputs": [],
   "source": [
    "def on_message(ws, message):\n",
    "    print(message)\n",
    "    msg = json.loads(message)\n",
    "    cmd = msg['cmd']\n",
    "    \n",
    "    if cmd == 'MBY':\n",
    "        country = msg['country']\n",
    "        tally = get_medals_last_10_years(country)    \n",
    "        tallyarray=[]\n",
    "        for i, row in tally.iterrows():\n",
    "            medaltally = {\"Year\":int(row[\"Year\"]),\n",
    "                          \"Gold\":int(row[\"Gold\"]),\n",
    "                          \"Silver\":int(row[\"Silver\"]),\n",
    "                          \"Bronze\":int(row[\"Bronze\"])}\n",
    "            tallyarray.append(medaltally)\n",
    "        wsresponse = {}\n",
    "        wsresponse[\"forcmd\"] = \"MBY\" \n",
    "        wsresponse[\"response\"] = tallyarray\n",
    "        ws.send(json.dumps(wsresponse))\n",
    "    elif cmd == 'MBSC':\n",
    "        country = msg['country']\n",
    "        year = 2008\n",
    "        response = get_medals_category(country, year)\n",
    "        \n",
    "        ct = response.count()\n",
    "        if ct > 5:\n",
    "            response = response.nlargest(5)    \n",
    "        \n",
    "        medals = []\n",
    "        countries = []\n",
    "        for i, row in response.iteritems():\n",
    "            countries.append(i)\n",
    "            medals.append(row)   \n",
    "  \n",
    "        wsresponse = {}\n",
    "        wsresponse[\"forcmd\"] = \"MBSC\"\n",
    "        wsresponse[\"response\"] = { \"countries\":countries, \"medals\":medals}         \n",
    "        ws.send(json.dumps(wsresponse))\n",
    "    elif cmd == 'MBSA':\n",
    "        country = msg['country']\n",
    "        response = get_medals_category_all(country)\n",
    "        \n",
    "        ct = response.count()\n",
    "        if ct > 5:\n",
    "            response = response.nlargest(5)    \n",
    "        \n",
    "        medals = []\n",
    "        countries = []\n",
    "        for i, row in response.iteritems():\n",
    "            countries.append(i)\n",
    "            medals.append(row)   \n",
    "  \n",
    "        wsresponse = {}\n",
    "        wsresponse[\"forcmd\"] = \"MBSA\"\n",
    "        wsresponse[\"response\"] = { \"countries\":countries, \"medals\":medals}         \n",
    "        ws.send(json.dumps(wsresponse))    \n",
    "    elif cmd == 'T10G':\n",
    "        edition = msg[\"edition\"]\n",
    "        response = get_top_ten_gold_tally(edition)\n",
    "        ct = response.count()\n",
    "        if ct > 10:\n",
    "            response = response.nlargest(10)\n",
    "        medals = []\n",
    "        for i, row in response.iteritems():\n",
    "            data = {\"country\":i,\"tally\":row}\n",
    "            medals.append(data)  \n",
    "        wsresponse = {}\n",
    "        wsresponse[\"forcmd\"] = \"T10G\"\n",
    "        wsresponse[\"response\"] = medals   \n",
    "        print(wsresponse)\n",
    "        ws.send(json.dumps(wsresponse))     \n",
    "    elif cmd == 'T10M':\n",
    "        year = msg[\"edition\"]\n",
    "        response = get_top_ten_total_tally(year)\n",
    "        ct = response.count()\n",
    "        if ct > 10:\n",
    "            response = response.nlargest(10)\n",
    "        medals = []\n",
    "        for i, row in response.iteritems():\n",
    "            data = {\"country\":i,\"tally\":row}\n",
    "            medals.append(data)  \n",
    "        wsresponse = {}\n",
    "        wsresponse[\"forcmd\"] = \"T10M\"\n",
    "        wsresponse[\"response\"] = medals   \n",
    "        print(wsresponse)\n",
    "        ws.send(json.dumps(wsresponse)) \n",
    "    elif cmd == 'CORR':\n",
    "        corr = get_correlation_medalstally() \n",
    "        wsresponse = {}\n",
    "        wsresponse[\"forcmd\"] = \"CORR\"\n",
    "        wsresponse[\"response\"] = corr\n",
    "        ws.send(json.dumps(wsresponse)) \n",
    "    elif cmd == 'YV':   \n",
    "        yearvenue = get_year_venue()\n",
    "        yearvenuearray = []\n",
    "        for i in range(yearvenue.size):\n",
    "            value = {\"Year\":yearvenue.index[i],\"Venue\":yearvenue.values[i].tolist()[0]}\n",
    "            yearvenuearray.append(value)\n",
    "        responsejson = {}\n",
    "        responsejson[\"forcmd\"]=\"YV\"\n",
    "        responsejson[\"response\"]=yearvenuearray\n",
    "        ws.send(json.dumps(responsejson))               \n",
    "    elif cmd == 'DATA':\n",
    "        country = msg['country']\n",
    "        edition = msg['edition']\n",
    "        olympicsslice = get_country_edition_data(country,edition)\n",
    "        data = []\n",
    "        numofcolumns = olympicsslice.columns.size\n",
    "        cols = []\n",
    "        values = []\n",
    "        for column in olympicsslice.columns:\n",
    "            cols.append(column)\n",
    "        for value in olympicsslice.values:\n",
    "            values.append(value.tolist()) \n",
    "        data = {\"cols\":cols,\"vals\":values}    \n",
    "        responsejson = {}\n",
    "        responsejson['forcmd']='DATA'\n",
    "        responsejson['response']= data\n",
    "        ws.send(json.dumps(responsejson)) \n",
    "    elif cmd == 'EDITIONS':\n",
    "        years = get_all_olympic_years()\n",
    "        yearsarray = []\n",
    "        for i,row in years.iteritems():\n",
    "            for value in row:\n",
    "                yearsarray.append(value)\n",
    "        length = len(yearsarray)\n",
    "        wsresponse = []\n",
    "        for i in range(length):\n",
    "            year = {\"text\":yearsarray[i],\"value\":yearsarray[i]}\n",
    "            wsresponse.append(year)\n",
    "        responsejson = {}\n",
    "        responsejson['forcmd']='EDITIONS'\n",
    "        responsejson['response']= wsresponse \n",
    "        ws.send(json.dumps(responsejson)) \n",
    "    elif cmd == 'COUNTRIES':\n",
    "        countries = get_all_countries()\n",
    "        countriesarray = []\n",
    "        codearray = []\n",
    "        for i,row in countries.iteritems():\n",
    "            if i=='Code':\n",
    "                for value in row:\n",
    "                    codearray.append(value)\n",
    "            elif i=='Country':  \n",
    "                for value in row:\n",
    "                    countriesarray.append(value)\n",
    "        length = len(codearray)\n",
    "        wsresponse = []\n",
    "        for i in range(length):\n",
    "            country = {\"text\":countriesarray[i],\"value\":codearray[i]}\n",
    "            wsresponse.append(country)\n",
    "        responsejson = {}\n",
    "        responsejson['forcmd']='COUNTRIES'\n",
    "        responsejson['response']= wsresponse \n",
    "        ws.send(json.dumps(responsejson))  \n",
    "\n",
    "def on_error(ws, error):\n",
    "    print(error)\n",
    "\n",
    "def on_close(ws):\n",
    "    ws.send(\"DSX Listen End\")\n",
    "\n",
    "def on_open(ws):\n",
    "    def run(*args):\n",
    "        for i in range(10000):\n",
    "            hbeat = '{\"cmd\":\"Olympics DSX HeartBeat\"}'\n",
    "            ws.send(hbeat)\n",
    "            time.sleep(100)\n",
    "            \n",
    "    thread.start_new_thread(run, ())\n",
    "\n",
    "\n",
    "def start_websocket_listener():\n",
    "    websocket.enableTrace(True)\n",
    "    ws = websocket.WebSocketApp(\"ws://osstorenodered.mybluemix.net/ws/orchestrate\",\n",
    "                              on_message = on_message,\n",
    "                              on_error = on_error,\n",
    "                              on_close = on_close)\n",
    "    ws.on_open = on_open\n",
    "    ws.run_forever()"
   ]
  },
  {
   "cell_type": "markdown",
   "metadata": {},
   "source": [
    "# 7. Start websocket client"
   ]
  },
  {
   "cell_type": "code",
   "execution_count": null,
   "metadata": {
    "scrolled": true
   },
   "outputs": [
    {
     "name": "stderr",
     "output_type": "stream",
     "text": [
      "--- request header ---\n",
      "GET /ws/orchestrate HTTP/1.1\n",
      "Upgrade: websocket\n",
      "Connection: Upgrade\n",
      "Host: osstorenodered.mybluemix.net\n",
      "Origin: http://osstorenodered.mybluemix.net\n",
      "Sec-WebSocket-Key: AFRGSrbvVFmNkNP0eiwjLA==\n",
      "Sec-WebSocket-Version: 13\n",
      "\n",
      "\n",
      "-----------------------\n",
      "--- response header ---\n",
      "HTTP/1.1 101 Switching Protocols\n",
      "Connection: Upgrade\n",
      "Sec-WebSocket-Accept: QOIGB/oj5p/23NVzNyKKBQrAk/Q=\n",
      "Date: Wed, 09 Aug 2017 04:30:38 GMT\n",
      "X-Global-Transaction-ID: 1109793655\n",
      "Upgrade: websocket\n",
      "-----------------------\n",
      "send: '\\x81\\xa0\\x80?\\x14N\\xfb\\x1dw#\\xe4\\x1d.l\\xcfSm#\\xf0Vw=\\xa0{G\\x16\\xa0wq/\\xf2KV+\\xe1K63'\n"
     ]
    },
    {
     "name": "stdout",
     "output_type": "stream",
     "text": [
      "{\"cmd\":\"Olympics DSX HeartBeat\"}\n",
      "{\"cmd\":\"CORR\"}\n"
     ]
    },
    {
     "name": "stderr",
     "output_type": "stream",
     "text": [
      "send: \"\\x81\\xfe\\x08.Z\\xe0\\xd8\\x19!\\xc2\\xbev(\\x83\\xb5}x\\xda\\xf8;\\x19\\xaf\\x8aKx\\xcc\\xf8;(\\x85\\xabi5\\x8e\\xab|x\\xda\\xf8B!\\xc2\\x9f]\\n\\xc2\\xe29w\\xd0\\xf6-o\\xd5\\xe8*k\\xd3\\xef(k\\xd1\\xe8,j\\xd6\\xef*v\\xc0\\xfaI5\\x90\\xadu;\\x94\\xb1v4\\xc2\\xe29j\\xce\\xe9/m\\xd2\\xeb,j\\xd2\\xe0)o\\xd3\\xed)c\\xd8\\xec5z\\xc2\\x81|;\\x92\\xfa#z\\xd1\\xe0 l\\x9d\\xf49!\\xc2\\x9f]\\n\\xc2\\xe29w\\xd0\\xf6)j\\xd0\\xef)h\\xd5\\xe8/h\\xd7\\xeb*l\\xd3\\xec.c\\xd0\\xe05z\\xc2\\x88v*\\x95\\xb4x.\\x89\\xb7wx\\xda\\xf84j\\xce\\xe8,n\\xd6\\xeb!m\\xd5\\xe8+b\\xd0\\xe1(m\\xd4\\xed/v\\xc0\\xfa@?\\x81\\xaa;`\\xc0\\xe9 j\\xd0\\xa55z\\x9b\\xfa^\\x1e\\xb0\\xfa#z\\xd0\\xf6+l\\xd0\\xe9+c\\xd2\\xe0 l\\xd8\\xe8)i\\xd5\\xe8.v\\xc0\\xfaI5\\x90\\xadu;\\x94\\xb1v4\\xc2\\xe29j\\xce\\xe1/l\\xd0\\xeb!m\\xd3\\xe1,o\\xd4\\xed*j\\xd5\\xef5z\\xc2\\x81|;\\x92\\xfa#z\\xd1\\xe1)n\\x9d\\xf49!\\xc2\\x9f]\\n\\xc2\\xe29j\\xce\\xea+b\\xd0\\xea+n\\xd1\\xea,j\\xd3\\xed!h\\xd8\\xea5z\\xc2\\x88v*\\x95\\xb4x.\\x89\\xb7wx\\xda\\xf8)t\\xd1\\xec,j\\xd3\\xea!m\\xd5\\xeb*c\\xd4\\xe0-j\\xd6\\xf49x\\xb9\\xbdx(\\xc2\\xe29k\\xd9\\xe8!'\\xcc\\xf8bx\\xa7\\x9cIx\\xda\\xf8)t\\xd5\\xe9/j\\xd6\\xed(j\\xd7\\xec+b\\xd1\\xeb/i\\xd8\\xf49x\\xb0\\xb7i/\\x8c\\xb9m3\\x8f\\xb6;`\\xc0\\xe87h\\xd1\\xeb/c\\xd3\\xed*l\\xd1\\xe8.b\\xd2\\xef.l\\xcc\\xf8;\\x03\\x85\\xb9kx\\xda\\xf8(c\\xd1\\xeadv\\xc0\\xa3;\\x1d\\xa4\\x88;`\\xc0\\xe87n\\xd0\\xea-b\\xd2\\xec!l\\xd1\\xed/h\\xd0\\xea/c\\xcc\\xf8;\\n\\x8f\\xa8l6\\x81\\xacp5\\x8e\\xfa#z\\xd0\\xf6.k\\xd1\\xeb(c\\xd6\\xe1*m\\xd4\\xe8,b\\xd5\\xed.v\\xc0\\xfa@?\\x81\\xaa;`\\xc0\\xe9 h\\xd4\\xa55z\\x9b\\xfa^\\x1e\\xb0\\xfa#z\\xd0\\xf6+b\\xd2\\xe8/j\\xd1\\xeb/i\\xd5\\xe9.j\\xd1\\xeb5z\\xc2\\x88v*\\x95\\xb4x.\\x89\\xb7wx\\xda\\xf8)t\\xd0\\xee!n\\xd4\\xe1*c\\xd6\\xe9 k\\xd7\\xef.b\\xd5\\xeb5z\\xc2\\x81|;\\x92\\xfa#z\\xd1\\xe1+b\\x9d\\xf49!\\xc2\\x9f]\\n\\xc2\\xe29j\\xce\\xea*c\\xd1\\xe8/o\\xd3\\xe8-b\\xd4\\xed!l\\xd3\\xf49x\\xb0\\xb7i/\\x8c\\xb9m3\\x8f\\xb6;`\\xc0\\xe87k\\xd3\\xef/l\\xd2\\xe1*h\\xd4\\xe1+l\\xd7\\xe1*i\\xcc\\xf8;\\x03\\x85\\xb9kx\\xda\\xf8(c\\xd3\\xeadv\\xc0\\xa3;\\x1d\\xa4\\x88;`\\xc0\\xe87i\\xd2\\xe8.b\\xd2\\xe0-m\\xd8\\xe8+b\\xd8\\xeb!v\\xc0\\xfaI5\\x90\\xadu;\\x94\\xb1v4\\xc2\\xe29j\\xce\\xe8*m\\xd3\\xed,l\\xd5\\xec!h\\xd2\\xe9-j\\xd7\\xee5z\\xc2\\x81|;\\x92\\xfa#z\\xd1\\xe1*l\\x9d\\xf49!\\xc2\\x9f]\\n\\xc2\\xe29j\\xce\\xec/i\\xd1\\xe0 c\\xd2\\xe9!m\\xd4\\xe9 o\\xd5\\xed5z\\xc2\\x88v*\\x95\\xb4x.\\x89\\xb7wx\\xda\\xf8)t\\xd1\\xeb-n\\xd1\\xeb!c\\xd1\\xe9/h\\xd6\\xe1)m\\xd3\\xf49x\\xb9\\xbdx(\\xc2\\xe29k\\xd9\\xec!'\\xcc\\xf8bx\\xa7\\x9cIx\\xda\\xf8)t\\xd2\\xe8,o\\xd8\\xed(h\\xd4\\xe9 j\\xd9\\xee-o\\xd3\\xf49x\\xb0\\xb7i/\\x8c\\xb9m3\\x8f\\xb6;`\\xc0\\xe87k\\xd0\\xec*b\\xd0\\xef!n\\xd6\\xed-n\\xd4\\xe9-h\\xcc\\xf8;\\x03\\x85\\xb9kx\\xda\\xf8(c\\xd5\\xeadv\\xc0\\xa3;\\x1d\\xa4\\x88;`\\xc0\\xe87k\\xd8\\xee(j\\xd1\\xee!m\\xd3\\xe8/c\\xd1\\xeb.i\\xcc\\xf8;\\n\\x8f\\xa8l6\\x81\\xacp5\\x8e\\xfa#z\\xd0\\xf6(i\\xd4\\xed!b\\xd8\\xec+c\\xd9\\xec!b\\xd0\\xeb v\\xc0\\xfa@?\\x81\\xaa;`\\xc0\\xe9 o\\xd6\\xa55z\\x9b\\xfa^\\x1e\\xb0\\xfa#z\\xd0\\xf6(c\\xd5\\xe0-j\\xd5\\xec)h\\xd9\\xe9+i\\xd4\\xee5z\\xc2\\x88v*\\x95\\xb4x.\\x89\\xb7wx\\xda\\xf8)t\\xd1\\xeb+b\\xd7\\xea!o\\xd8\\xed*o\\xd5\\xe8+o\\xd4\\xf49x\\xb9\\xbdx(\\xc2\\xe29k\\xd9\\xee)'\\xcc\\xf8bx\\xa7\\x9cIx\\xda\\xf8)t\\xd2\\xe1/m\\xd0\\xec,l\\xd6\\xec!m\\xd1\\xec/b\\xd3\\xf49x\\xb0\\xb7i/\\x8c\\xb9m3\\x8f\\xb6;`\\xc0\\xe87k\\xd5\\xed*j\\xd5\\xeb(b\\xd5\\xeb(m\\xd1\\xec.o\\xcc\\xf8;\\x03\\x85\\xb9kx\\xda\\xf8(c\\xd6\\xecdv\\xc0\\xa3;\\x1d\\xa4\\x88;`\\xc0\\xe87h\\xd4\\xeb!i\\xd7\\xed j\\xd5\\xee!m\\xd1\\xea.l\\xcc\\xf8;\\n\\x8f\\xa8l6\\x81\\xacp5\\x8e\\xfa#z\\xd0\\xf6(o\\xd4\\xe9-h\\xd6\\xef(c\\xd9\\xe0 m\\xd8\\xed+v\\xc0\\xfa@?\\x81\\xaa;`\\xc0\\xe9 l\\xd8\\xa55z\\x9b\\xfa^\\x1e\\xb0\\xfa#z\\xd0\\xf6+n\\xd7\\xef*i\\xd5\\xea+n\\xd2\\xe1-l\\xd7\\xef,v\\xc0\\xfaI5\\x90\\xadu;\\x94\\xb1v4\\xc2\\xe29j\\xce\\xe9,m\\xd0\\xef,c\\xd7\\xe9+j\\xd0\\xee*h\\xd9\\xe95z\\xc2\\x81|;\\x92\\xfa#z\\xd1\\xe1.h\\x9d\\xf49!\\xc2\\x9f]\\n\\xc2\\xe29j\\xce\\xe9+l\\xd7\\xe8*b\\xd2\\xea!i\\xd0\\xeb-h\\xd7\\xeb5z\\xc2\\x88v*\\x95\\xb4x.\\x89\\xb7wx\\xda\\xf8)t\\xd5\\xef)j\\xd4\\xef!l\\xd6\\xea*k\\xd2\\xeb i\\xd8\\xf49x\\xb9\\xbdx(\\xc2\\xe29k\\xd9\\xef/'\\xcc\\xf8bx\\xa7\\x9cIx\\xda\\xf84j\\xce\\xe9(i\\xd7\\xee/m\\xd7\\xeb)c\\xd0\\xec.m\\xd1\\xe95z\\xc2\\x88v*\\x95\\xb4x.\\x89\\xb7wx\\xda\\xf84j\\xce\\xe8)j\\xd9\\xe0.i\\xd4\\xe1*k\\xd3\\xed*k\\xd7\\xe0)n\\xcc\\xf8;\\x03\\x85\\xb9kx\\xda\\xf8(c\\xd8\\xe8dv\\xc0\\xa3;\\x1d\\xa4\\x88;`\\xc0\\xe87i\\xd3\\xe0/l\\xd0\\xe9!m\\xd5\\xe9!m\\xd3\\xec.b\\xcc\\xf8;\\n\\x8f\\xa8l6\\x81\\xacp5\\x8e\\xfa#z\\xd0\\xf6*k\\xd5\\xed.o\\xd7\\xee(b\\xd5\\xec*l\\xd5\\xec!v\\xc0\\xfa@?\\x81\\xaa;`\\xc0\\xe9 b\\xd8\\xa55z\\x9b\\xfa^\\x1e\\xb0\\xfa#z\\xd0\\xf6*j\\xd6\\xea,c\\xd1\\xed,j\\xd2\\xe1.o\\xd8\\xe8*v\\xc0\\xfaI5\\x90\\xadu;\\x94\\xb1v4\\xc2\\xe29j\\xce\\xeb+i\\xd6\\xeb m\\xd6\\xeb o\\xd5\\xeb n\\xd9\\xed5z\\xc2\\x81|;\\x92\\xfa#z\\xd1\\xe1 h\\x9d\\xf49!\\xc2\\x9f]\\n\\xc2\\xe29j\\xce\\xeb/b\\xd7\\xeb!b\\xd4\\xe9(n\\xd7\\xe9+j\\xd8\\xed5z\\xc2\\x88v*\\x95\\xb4x.\\x89\\xb7wx\\xda\\xf8)t\\xd2\\xef*m\\xd8\\xea+h\\xd7\\xea/k\\xd1\\xea+j\\xd6\\xf49x\\xb9\\xbdx(\\xc2\\xe29k\\xd9\\xe1/'\\xcc\\xf8bx\\xa7\\x9cIx\\xda\\xf8)t\\xd3\\xe9 k\\xd2\\xe8(o\\xd4\\xe9.k\\xd8\\xef-i\\xd9\\xf49x\\xb0\\xb7i/\\x8c\\xb9m3\\x8f\\xb6;`\\xc0\\xe87k\\xd8\\xe1/n\\xd7\\xe0*m\\xd4\\xe9)l\\xd7\\xe9(h\\xcc\\xf8;\\x03\\x85\\xb9kx\\xda\\xf8+j\\xd0\\xe8dv\\xc0\\xa3;\\x1d\\xa4\\x88;`\\xc0\\xe87i\\xd0\\xee,n\\xd7\\xee.k\\xd9\\xec,b\\xd5\\xe1,h\\xcc\\xf8;\\n\\x8f\\xa8l6\\x81\\xacp5\\x8e\\xfa#z\\xd0\\xf6+k\\xd1\\xe0-m\\xd8\\xec-k\\xd3\\xec/l\\xd7\\xe1!v\\xc0\\xfa@?\\x81\\xaa;`\\xc0\\xea)j\\xd4\\xa55z\\x9b\\xfa^\\x1e\\xb0\\xfa#z\\xd0\\xf6*k\\xd3\\xeb)j\\xd1\\xef.j\\xd1\\xee j\\xd0\\xe1-v\\xc0\\xfaI5\\x90\\xadu;\\x94\\xb1v4\\xc2\\xe29j\\xce\\xeb.b\\xd4\\xee(j\\xd7\\xeb,i\\xd7\\xe9 k\\xd7\\xea5z\\xc2\\x81|;\\x92\\xfa#z\\xd2\\xe8)b\\x9d\\xf49!\\xc2\\x9f]\\n\\xc2\\xe29j\\xce\\xeb(o\\xd2\\xec)b\\xd4\\xee o\\xd9\\xe0*l\\xd0\\xe95z\\xc2\\x88v*\\x95\\xb4x.\\x89\\xb7wx\\xda\\xf8)t\\xd3\\xeb/l\\xd0\\xea*o\\xd0\\xee!i\\xd3\\xed-h\\xd6\\xf49x\\xb9\\xbdx(\\xc2\\xe29k\\xd9\\xe0-'\\xcc\\xf8bx\\xa7\\x9cIx\\xda\\xf8)t\\xd2\\xe8*n\\xd7\\xeb/k\\xd0\\xe9-l\\xd0\\xeb(k\\xd3\\xf49x\\xb0\\xb7i/\\x8c\\xb9m3\\x8f\\xb6;`\\xc0\\xe87h\\xd6\\xed(b\\xd2\\xe8 h\\xd6\\xe8(o\\xd2\\xec-b\\xcc\\xf8;\\x03\\x85\\xb9kx\\xda\\xf8(c\\xd2\\xe8d\\x07\\x9d\"\n",
      "error from callback <function on_message at 0x7f624fbbaed8>: 'cmd'\n",
      "  File \"/gpfs/fs01/user/s973-7d640fb4db0d6f-c5c16a29391b/.local/lib/python2.7/site-packages/websocket/_app.py\", line 269, in _callback\n",
      "    callback(self, *args)\n",
      "  File \"<ipython-input-12-8f349f373a9f>\", line 4, in on_message\n",
      "    cmd = msg['cmd']\n"
     ]
    },
    {
     "name": "stdout",
     "output_type": "stream",
     "text": [
      "{\"forcmd\": \"CORR\", \"response\": [{\"GDP\": -0.45503137111050673, \"Population\": 0.16723502805350984, \"Year\": 1896}, {\"GDP\": -0.00070250627336347908, \"Population\": -0.054638750280917456, \"Year\": 1900}, {\"GDP\": 0.26012928968003507, \"Population\": 0.96603873955453057, \"Year\": 1904}, {\"GDP\": 0.22802241250358282, \"Population\": 0.14503287533948406, \"Year\": 1908}, {\"GDP\": 0.51606510742813638, \"Population\": 0.21369353610782776, \"Year\": 1912}, {\"GDP\": 0.40248248615620269, \"Population\": 0.71131969374058557, \"Year\": 1924}, {\"GDP\": 0.2820601363517013, \"Population\": 0.068449396191777853, \"Year\": 1928}, {\"GDP\": 0.2391065304845863, \"Population\": 0.13766293249267933, \"Year\": 1932}, {\"GDP\": 0.3207828478028838, \"Population\": 0.03735565482214076, \"Year\": 1936}, {\"GDP\": 0.46318992187419555, \"Population\": 0.13441389116269073, \"Year\": 1948}, {\"GDP\": 0.20558512419096453, \"Population\": 0.10438078465444142, \"Year\": 1952}, {\"GDP\": 0.18610168730691373, \"Population\": 0.13458884299488039, \"Year\": 1956}, {\"GDP\": 0.1958405402912346, \"Population\": 0.13287285853550254, \"Year\": 1960}, {\"GDP\": 0.29670456648714683, \"Population\": 0.15530531853171475, \"Year\": 1964}, {\"GDP\": 0.24383759056871276, \"Population\": 0.15414267199897852, \"Year\": 1968}, {\"GDP\": 0.24773352242946775, \"Population\": 0.15707597120063291, \"Year\": 1972}, {\"GDP\": 0.12670382283034273, \"Population\": 0.57004786623123938, \"Year\": 1976}, {\"GDP\": -0.11376677309047711, \"Population\": -0.0009873493135317804, \"Year\": 1980}, {\"GDP\": 0.33866018751873478, \"Population\": 0.31557576185436548, \"Year\": 1988}, {\"GDP\": 0.30625915502975803, \"Population\": 0.32363976395539495, \"Year\": 1992}, {\"GDP\": 0.36873884114712085, \"Population\": 0.27378222726112206, \"Year\": 1996}, {\"GDP\": 0.31912015417187439, \"Population\": 0.18964783741067112, \"Year\": 2000}, {\"GDP\": 0.30654767194585952, \"Population\": 0.21184784413466798, \"Year\": 2004}, {\"GDP\": 0.31330017701690094, \"Population\": 0.37846107353719172, \"Year\": 2008}, {\"GDP\": 0.31524084695983601, \"Population\": 0.33660235068335426, \"Year\": 1984}, {\"GDP\": 0.20347361014603113, \"Population\": 0.26518209260152448, \"Year\": 1920}]}\n"
     ]
    },
    {
     "name": "stderr",
     "output_type": "stream",
     "text": [
      "/usr/local/src/bluemix_jupyter_bundle.v55/notebook/lib/python2.7/site-packages/ipykernel/__main__.py:113: FutureWarning: sort(columns=....) is deprecated, use sort_values(by=.....)\n",
      "send: '\\x81\\xfe\\x12l\\xa2\\xf9\\xdb\\x11\\xd9\\xdb\\xbd~\\xd0\\x9a\\xb6u\\x80\\xc3\\xfb3\\xe1\\xb6\\x8e_\\xf6\\xab\\x92T\\xf1\\xdb\\xf71\\x80\\x8b\\xbeb\\xd2\\x96\\xb5b\\xc7\\xdb\\xe11\\xf9\\x82\\xf9e\\xc7\\x81\\xaf3\\x98\\xd9\\xf9P\\xc4\\x9e\\xb3p\\xcc\\x90\\xa8e\\xc3\\x97\\xf9=\\x82\\xdb\\xadp\\xce\\x8c\\xbe3\\x98\\xd9\\xf9P\\xe4\\xbe\\xf9l\\x8e\\xd9\\xa03\\xd6\\x9c\\xa3e\\x80\\xc3\\xfb3\\xe3\\x95\\xbct\\xd0\\x90\\xba3\\x8e\\xd9\\xf9g\\xc3\\x95\\xaet\\x80\\xc3\\xfb3\\xe3\\xb5\\x9c3\\xdf\\xd5\\xfbj\\x80\\x8d\\xbei\\xd6\\xdb\\xe11\\x80\\xb8\\xa9v\\xc7\\x97\\xafx\\xcc\\x98\\xf9=\\x82\\xdb\\xadp\\xce\\x8c\\xbe3\\x98\\xd9\\xf9P\\xf0\\xbe\\xf9l\\x8e\\xd9\\xa03\\xd6\\x9c\\xa3e\\x80\\xc3\\xfb3\\xe3\\x8b\\xb6t\\xcc\\x90\\xba3\\x8e\\xd9\\xf9g\\xc3\\x95\\xaet\\x80\\xc3\\xfb3\\xe3\\xab\\x963\\xdf\\xd5\\xfbj\\x80\\x8d\\xbei\\xd6\\xdb\\xe11\\x80\\xb8\\xaeb\\xd6\\x8b\\xba}\\xcb\\x98\\xf9=\\x82\\xdb\\xadp\\xce\\x8c\\xbe3\\x98\\xd9\\xf9P\\xf7\\xaa\\xf9l\\x8e\\xd9\\xa03\\xd6\\x9c\\xa3e\\x80\\xc3\\xfb3\\xe3\\x8c\\xa8e\\xd0\\x90\\xba3\\x8e\\xd9\\xf9g\\xc3\\x95\\xaet\\x80\\xc3\\xfb3\\xe3\\xac\\x8f3\\xdf\\xd5\\xfbj\\x80\\x8d\\xbei\\xd6\\xdb\\xe11\\x80\\xb8\\xa1t\\xd0\\x9b\\xbax\\xc8\\x98\\xb53\\x8e\\xd9\\xf9g\\xc3\\x95\\xaet\\x80\\xc3\\xfb3\\xe3\\xa3\\x9e3\\xdf\\xd5\\xfbj\\x80\\x8d\\xbei\\xd6\\xdb\\xe11\\x80\\xbb\\xbay\\xc3\\x94\\xbab\\x80\\xd5\\xfb3\\xd4\\x98\\xb7d\\xc7\\xdb\\xe11\\x80\\xbb\\x9aY\\x80\\x84\\xf71\\xd9\\xdb\\xaft\\xda\\x8d\\xf9+\\x82\\xdb\\x99p\\xd0\\x9b\\xbau\\xcd\\x8a\\xf9=\\x82\\xdb\\xadp\\xce\\x8c\\xbe3\\x98\\xd9\\xf9S\\xe3\\xab\\xf9l\\x8e\\xd9\\xa03\\xd6\\x9c\\xa3e\\x80\\xc3\\xfb3\\xe0\\x9c\\xb7p\\xd0\\x8c\\xa83\\x8e\\xd9\\xf9g\\xc3\\x95\\xaet\\x80\\xc3\\xfb3\\xe0\\xb5\\x893\\xdf\\xd5\\xfbj\\x80\\x8d\\xbei\\xd6\\xdb\\xe11\\x80\\xbb\\xbe}\\xc5\\x90\\xae|\\x80\\xd5\\xfb3\\xd4\\x98\\xb7d\\xc7\\xdb\\xe11\\x80\\xbb\\x9e]\\x80\\x84\\xf71\\xd9\\xdb\\xaft\\xda\\x8d\\xf9+\\x82\\xdb\\x99t\\xd0\\x94\\xaeu\\xc3\\xd3\\xf9=\\x82\\xdb\\xadp\\xce\\x8c\\xbe3\\x98\\xd9\\xf9S\\xe7\\xab\\xf9l\\x8e\\xd9\\xa03\\xd6\\x9c\\xa3e\\x80\\xc3\\xfb3\\xe0\\x8b\\xbak\\xcb\\x95\\xf9=\\x82\\xdb\\xadp\\xce\\x8c\\xbe3\\x98\\xd9\\xf9S\\xf0\\xb8\\xf9l\\x8e\\xd9\\xa03\\xd6\\x9c\\xa3e\\x80\\xc3\\xfb3\\xe0\\x8c\\xb7v\\xc3\\x8b\\xb2p\\x80\\xd5\\xfb3\\xd4\\x98\\xb7d\\xc7\\xdb\\xe11\\x80\\xbb\\x8e]\\x80\\x84\\xf71\\xd9\\xdb\\xaft\\xda\\x8d\\xf9+\\x82\\xdb\\x99d\\xd0\\x8c\\xb5u\\xcb\\xdb\\xf71\\x80\\x8f\\xba}\\xd7\\x9c\\xf9+\\x82\\xdb\\x99U\\xeb\\xdb\\xa6=\\x82\\x82\\xf9e\\xc7\\x81\\xaf3\\x98\\xd9\\xf9R\\xc3\\x94\\xbec\\xcd\\x96\\xb53\\x8e\\xd9\\xf9g\\xc3\\x95\\xaet\\x80\\xc3\\xfb3\\xe1\\xb4\\x893\\xdf\\xd5\\xfbj\\x80\\x8d\\xbei\\xd6\\xdb\\xe11\\x80\\xba\\xba\\x7f\\xc3\\x9d\\xba3\\x8e\\xd9\\xf9g\\xc3\\x95\\xaet\\x80\\xc3\\xfb3\\xe1\\xb8\\x953\\xdf\\xd5\\xfbj\\x80\\x8d\\xbei\\xd6\\xdb\\xe11\\x80\\xba\\xb3x\\xce\\x9c\\xf9=\\x82\\xdb\\xadp\\xce\\x8c\\xbe3\\x98\\xd9\\xf9R\\xea\\xb0\\xf9l\\x8e\\xd9\\xa03\\xd6\\x9c\\xa3e\\x80\\xc3\\xfb3\\xe1\\x91\\xb2\\x7f\\xc3\\xdb\\xf71\\x80\\x8f\\xba}\\xd7\\x9c\\xf9+\\x82\\xdb\\x98Y\\xec\\xdb\\xa6=\\x82\\x82\\xf9e\\xc7\\x81\\xaf3\\x98\\xd9\\xf9R\\xcd\\x95\\xb4|\\xc0\\x90\\xba3\\x8e\\xd9\\xf9g\\xc3\\x95\\xaet\\x80\\xc3\\xfb3\\xe1\\xb6\\x973\\xdf\\xd5\\xfbj\\x80\\x8d\\xbei\\xd6\\xdb\\xe11\\x80\\xba\\xb4b\\xd6\\x98\\xfbC\\xcb\\x9a\\xba3\\x8e\\xd9\\xf9g\\xc3\\x95\\xaet\\x80\\xc3\\xfb3\\xe1\\xab\\x983\\xdf\\xd5\\xfbj\\x80\\x8d\\xbei\\xd6\\xdb\\xe11\\x80\\xba\\xb4e\\xc7\\xd9\\xbf6\\xeb\\x8f\\xb4x\\xd0\\x9c\\xf9=\\x82\\xdb\\xadp\\xce\\x8c\\xbe3\\x98\\xd9\\xf9R\\xeb\\xaf\\xf9l\\x8e\\xd9\\xa03\\xd6\\x9c\\xa3e\\x80\\xc3\\xfb3\\xe1\\x8b\\xb4p\\xd6\\x90\\xba3\\x8e\\xd9\\xf9g\\xc3\\x95\\xaet\\x80\\xc3\\xfb3\\xe1\\xab\\x943\\xdf\\xd5\\xfbj\\x80\\x8d\\xbei\\xd6\\xdb\\xe11\\x80\\xba\\xaes\\xc3\\xdb\\xf71\\x80\\x8f\\xba}\\xd7\\x9c\\xf9+\\x82\\xdb\\x98D\\xe0\\xdb\\xa6=\\x82\\x82\\xf9e\\xc7\\x81\\xaf3\\x98\\xd9\\xf9R\\xd8\\x9c\\xb8y\\x82\\xab\\xbea\\xd7\\x9b\\xb7x\\xc1\\xdb\\xf71\\x80\\x8f\\xba}\\xd7\\x9c\\xf9+\\x82\\xdb\\x98K\\xe7\\xdb\\xa6=\\x82\\x82\\xf9e\\xc7\\x81\\xaf3\\x98\\xd9\\xf9U\\xc7\\x97\\xb6p\\xd0\\x92\\xf9=\\x82\\xdb\\xadp\\xce\\x8c\\xbe3\\x98\\xd9\\xf9U\\xe7\\xb7\\xf9l\\x8e\\xd9\\xa03\\xd6\\x9c\\xa3e\\x80\\xc3\\xfb3\\xe6\\x93\\xb2s\\xcd\\x8c\\xafx\\x80\\xd5\\xfb3\\xd4\\x98\\xb7d\\xc7\\xdb\\xe11\\x80\\xbd\\x91X\\x80\\x84\\xf71\\xd9\\xdb\\xaft\\xda\\x8d\\xf9+\\x82\\xdb\\x9f~\\xcf\\x90\\xb5x\\xc1\\x98\\xb51\\xf0\\x9c\\xabd\\xc0\\x95\\xb2r\\x80\\xd5\\xfb3\\xd4\\x98\\xb7d\\xc7\\xdb\\xe11\\x80\\xbd\\x94\\\\\\x80\\x84\\xf71\\xd9\\xdb\\xaft\\xda\\x8d\\xf9+\\x82\\xdb\\x9er\\xd7\\x98\\xbf~\\xd0\\xdb\\xf71\\x80\\x8f\\xba}\\xd7\\x9c\\xf9+\\x82\\xdb\\x9eR\\xf7\\xdb\\xa6=\\x82\\x82\\xf9e\\xc7\\x81\\xaf3\\x98\\xd9\\xf9T\\xc5\\x80\\xabe\\x80\\xd5\\xfb3\\xd4\\x98\\xb7d\\xc7\\xdb\\xe11\\x80\\xbc\\x9cH\\x80\\x84\\xf71\\xd9\\xdb\\xaft\\xda\\x8d\\xf9+\\x82\\xdb\\x9ec\\xcb\\x8d\\xa9t\\xc3\\xdb\\xf71\\x80\\x8f\\xba}\\xd7\\x9c\\xf9+\\x82\\xdb\\x9eC\\xeb\\xdb\\xa6=\\x82\\x82\\xf9e\\xc7\\x81\\xaf3\\x98\\xd9\\xf9T\\xd1\\x8d\\xb4\\x7f\\xcb\\x98\\xf9=\\x82\\xdb\\xadp\\xce\\x8c\\xbe3\\x98\\xd9\\xf9T\\xf1\\xad\\xf9l\\x8e\\xd9\\xa03\\xd6\\x9c\\xa3e\\x80\\xc3\\xfb3\\xe7\\x8d\\xb3x\\xcd\\x89\\xb2p\\x80\\xd5\\xfb3\\xd4\\x98\\xb7d\\xc7\\xdb\\xe11\\x80\\xbc\\x8fY\\x80\\x84\\xf71\\xd9\\xdb\\xaft\\xda\\x8d\\xf9+\\x82\\xdb\\x9dx\\xcc\\x95\\xba\\x7f\\xc6\\xdb\\xf71\\x80\\x8f\\xba}\\xd7\\x9c\\xf9+\\x82\\xdb\\x9dX\\xec\\xdb\\xa6=\\x82\\x82\\xf9e\\xc7\\x81\\xaf3\\x98\\xd9\\xf9W\\xd0\\x98\\xb5r\\xc7\\xdb\\xf71\\x80\\x8f\\xba}\\xd7\\x9c\\xf9+\\x82\\xdb\\x9dC\\xe3\\xdb\\xa6=\\x82\\x82\\xf9e\\xc7\\x81\\xaf3\\x98\\xd9\\xf9V\\xc7\\x96\\xa9v\\xcb\\x98\\xf9=\\x82\\xdb\\xadp\\xce\\x8c\\xbe3\\x98\\xd9\\xf9V\\xe7\\xb6\\xf9l\\x8e\\xd9\\xa03\\xd6\\x9c\\xa3e\\x80\\xc3\\xfb3\\xe5\\x9c\\xa9|\\xc3\\x97\\xa23\\x8e\\xd9\\xf9g\\xc3\\x95\\xaet\\x80\\xc3\\xfb3\\xe5\\xbc\\x893\\xdf\\xd5\\xfbj\\x80\\x8d\\xbei\\xd6\\xdb\\xe11\\x80\\xbe\\xb3p\\xcc\\x98\\xf9=\\x82\\xdb\\xadp\\xce\\x8c\\xbe3\\x98\\xd9\\xf9V\\xea\\xb8\\xf9l\\x8e\\xd9\\xa03\\xd6\\x9c\\xa3e\\x80\\xc3\\xfb3\\xe5\\x8b\\xbet\\xc1\\x9c\\xf9=\\x82\\xdb\\xadp\\xce\\x8c\\xbe3\\x98\\xd9\\xf9V\\xf0\\xbc\\xf9l\\x8e\\xd9\\xa03\\xd6\\x9c\\xa3e\\x80\\xc3\\xfb3\\xe5\\x8c\\xa2p\\xcc\\x98\\xf9=\\x82\\xdb\\xadp\\xce\\x8c\\xbe3\\x98\\xd9\\xf9V\\xf7\\xa0\\xf9l\\x8e\\xd9\\xa03\\xd6\\x9c\\xa3e\\x80\\xc3\\xfb3\\xea\\x98\\xb2e\\xcb\\xdb\\xf71\\x80\\x8f\\xba}\\xd7\\x9c\\xf9+\\x82\\xdb\\x93P\\xeb\\xdb\\xa6=\\x82\\x82\\xf9e\\xc7\\x81\\xaf3\\x98\\xd9\\xf9Y\\xcd\\x97\\xbc1\\xe9\\x96\\xb5v\\x88\\xdb\\xf71\\x80\\x8f\\xba}\\xd7\\x9c\\xf9+\\x82\\xdb\\x93Z\\xe5\\xdb\\xa6=\\x82\\x82\\xf9e\\xc7\\x81\\xaf3\\x98\\xd9\\xf9Y\\xd7\\x97\\xbcp\\xd0\\x80\\xf9=\\x82\\xdb\\xadp\\xce\\x8c\\xbe3\\x98\\xd9\\xf9Y\\xf7\\xb7\\xf9l\\x8e\\xd9\\xa03\\xd6\\x9c\\xa3e\\x80\\xc3\\xfb3\\xeb\\x9a\\xbe}\\xc3\\x97\\xbf3\\x8e\\xd9\\xf9g\\xc3\\x95\\xaet\\x80\\xc3\\xfb3\\xeb\\xaa\\x973\\xdf\\xd5\\xfbj\\x80\\x8d\\xbei\\xd6\\xdb\\xe11\\x80\\xb0\\xb5u\\xcb\\x98\\xf9=\\x82\\xdb\\xadp\\xce\\x8c\\xbe3\\x98\\xd9\\xf9X\\xec\\xbd\\xf9l\\x8e\\xd9\\xa03\\xd6\\x9c\\xa3e\\x80\\xc3\\xfb3\\xeb\\x97\\xbf~\\xcc\\x9c\\xa8x\\xc3\\xdb\\xf71\\x80\\x8f\\xba}\\xd7\\x9c\\xf9+\\x82\\xdb\\x92_\\xe3\\xdb\\xa6=\\x82\\x82\\xf9e\\xc7\\x81\\xaf3\\x98\\xd9\\xf9X\\xd0\\x98\\xb53\\x8e\\xd9\\xf9g\\xc3\\x95\\xaet\\x80\\xc3\\xfb3\\xeb\\xab\\x923\\xdf\\xd5\\xfbj\\x80\\x8d\\xbei\\xd6\\xdb\\xe11\\x80\\xb0\\xa9p\\xd3\\xdb\\xf71\\x80\\x8f\\xba}\\xd7\\x9c\\xf9+\\x82\\xdb\\x92C\\xf3\\xdb\\xa6=\\x82\\x82\\xf9e\\xc7\\x81\\xaf3\\x98\\xd9\\xf9X\\xd0\\x9c\\xb7p\\xcc\\x9d\\xf9=\\x82\\xdb\\xadp\\xce\\x8c\\xbe3\\x98\\xd9\\xf9X\\xf0\\xb5\\xf9l\\x8e\\xd9\\xa03\\xd6\\x9c\\xa3e\\x80\\xc3\\xfb3\\xeb\\x8a\\xa9p\\xc7\\x95\\xf9=\\x82\\xdb\\xadp\\xce\\x8c\\xbe3\\x98\\xd9\\xf9X\\xf1\\xab\\xf9l\\x8e\\xd9\\xa03\\xd6\\x9c\\xa3e\\x80\\xc3\\xfb3\\xeb\\x8d\\xba}\\xdb\\xdb\\xf71\\x80\\x8f\\xba}\\xd7\\x9c\\xf9+\\x82\\xdb\\x92E\\xe3\\xdb\\xa6=\\x82\\x82\\xf9e\\xc7\\x81\\xaf3\\x98\\xd9\\xf9[\\xc3\\x94\\xbax\\xc1\\x98\\xf9=\\x82\\xdb\\xadp\\xce\\x8c\\xbe3\\x98\\xd9\\xf9[\\xe3\\xb4\\xf9l\\x8e\\xd9\\xa03\\xd6\\x9c\\xa3e\\x80\\xc3\\xfb3\\xe8\\x98\\xabp\\xcc\\xdb\\xf71\\x80\\x8f\\xba}\\xd7\\x9c\\xf9+\\x82\\xdb\\x91A\\xec\\xdb\\xa6=\\x82\\x82\\xf9e\\xc7\\x81\\xaf3\\x98\\xd9\\xf9Z\\xc3\\x83\\xbaz\\xca\\x8a\\xafp\\xcc\\xdb\\xf71\\x80\\x8f\\xba}\\xd7\\x9c\\xf9+\\x82\\xdb\\x90P\\xf8\\xdb\\xa6=\\x82\\x82\\xf9e\\xc7\\x81\\xaf3\\x98\\xd9\\xf9Z\\xc7\\x97\\xa2p\\x80\\xd5\\xfb3\\xd4\\x98\\xb7d\\xc7\\xdb\\xe11\\x80\\xb2\\x9e_\\x80\\x84\\xf71\\xd9\\xdb\\xaft\\xda\\x8d\\xf9+\\x82\\xdb\\x90~\\xd0\\x9c\\xba=\\x82\\xb7\\xb4c\\xd6\\x91\\xf9=\\x82\\xdb\\xadp\\xce\\x8c\\xbe3\\x98\\xd9\\xf9A\\xf0\\xb2\\xf9l\\x8e\\xd9\\xa03\\xd6\\x9c\\xa3e\\x80\\xc3\\xfb3\\xe9\\x96\\xa9t\\xc3\\xd5\\xfbB\\xcd\\x8c\\xafy\\x80\\xd5\\xfb3\\xd4\\x98\\xb7d\\xc7\\xdb\\xe11\\x80\\xb2\\x94C\\x80\\x84\\xf71\\xd9\\xdb\\xaft\\xda\\x8d\\xf9+\\x82\\xdb\\x90d\\xd5\\x98\\xb2e\\x80\\xd5\\xfb3\\xd4\\x98\\xb7d\\xc7\\xdb\\xe11\\x80\\xb2\\x8eF\\x80\\x84\\xf71\\xd9\\xdb\\xaft\\xda\\x8d\\xf9+\\x82\\xdb\\x90h\\xd0\\x9e\\xa2k\\xd1\\x8d\\xba\\x7f\\x80\\xd5\\xfb3\\xd4\\x98\\xb7d\\xc7\\xdb\\xe11\\x80\\xb2\\x9cK\\x80\\x84\\xf71\\xd9\\xdb\\xaft\\xda\\x8d\\xf9+\\x82\\xdb\\x97p\\xd6\\x8f\\xb2p\\x80\\xd5\\xfb3\\xd4\\x98\\xb7d\\xc7\\xdb\\xe11\\x80\\xb5\\x9aE\\x80\\x84\\xf71\\xd9\\xdb\\xaft\\xda\\x8d\\xf9+\\x82\\xdb\\x97t\\xc0\\x98\\xb5~\\xcc\\xdb\\xf71\\x80\\x8f\\xba}\\xd7\\x9c\\xf9+\\x82\\xdb\\x97X\\xe0\\xdb\\xa6=\\x82\\x82\\xf9e\\xc7\\x81\\xaf3\\x98\\xd9\\xf9]\\xcb\\x8d\\xb3d\\xc3\\x97\\xb2p\\x80\\xd5\\xfb3\\xd4\\x98\\xb7d\\xc7\\xdb\\xe11\\x80\\xb5\\x8fD\\x80\\x84\\xf71\\xd9\\xdb\\xaft\\xda\\x8d\\xf9+\\x82\\xdb\\x97d\\xda\\x9c\\xb6s\\xcd\\x8c\\xa9v\\x80\\xd5\\xfb3\\xd4\\x98\\xb7d\\xc7\\xdb\\xe11\\x80\\xb5\\x8eI\\x80\\x84\\xf71\\xd9\\xdb\\xaft\\xda\\x8d\\xf9+\\x82\\xdb\\x96p\\xc1\\x9c\\xbf~\\xcc\\x90\\xba3\\x8e\\xd9\\xf9g\\xc3\\x95\\xaet\\x80\\xc3\\xfb3\\xef\\xb2\\x9f3\\xdf\\xd5\\xfbj\\x80\\x8d\\xbei\\xd6\\xdb\\xe11\\x80\\xb4\\xba}\\xc3\\x80\\xa8x\\xc3\\xdb\\xf71\\x80\\x8f\\xba}\\xd7\\x9c\\xf9+\\x82\\xdb\\x96P\\xf1\\xdb\\xa6=\\x82\\x82\\xf9e\\xc7\\x81\\xaf3\\x98\\xd9\\xf9\\\\\\xc3\\x8c\\xa9x\\xd6\\x90\\xaeb\\x80\\xd5\\xfb3\\xd4\\x98\\xb7d\\xc7\\xdb\\xe11\\x80\\xb4\\x89X\\x80\\x84\\xf71\\xd9\\xdb\\xaft\\xda\\x8d\\xf9+\\x82\\xdb\\x96t\\xda\\x90\\xb8~\\x80\\xd5\\xfb3\\xd4\\x98\\xb7d\\xc7\\xdb\\xe11\\x80\\xb4\\x9eI\\x80\\x84\\xf71\\xd9\\xdb\\xaft\\xda\\x8d\\xf9+\\x82\\xdb\\x96~\\xce\\x9d\\xb4g\\xc3\\xdb\\xf71\\x80\\x8f\\xba}\\xd7\\x9c\\xf9+\\x82\\xdb\\x96U\\xe3\\xdb\\xa6=\\x82\\x82\\xf9e\\xc7\\x81\\xaf3\\x98\\xd9\\xf9\\\\\\xcd\\x97\\xbc~\\xce\\x90\\xba3\\x8e\\xd9\\xf9g\\xc3\\x95\\xaet\\x80\\xc3\\xfb3\\xef\\xbe\\x973\\xdf\\xd5\\xfbj\\x80\\x8d\\xbei\\xd6\\xdb\\xe11\\x80\\xb4\\xb4c\\xcd\\x9a\\xb8~\\x80\\xd5\\xfb3\\xd4\\x98\\xb7d\\xc7\\xdb\\xe11\\x80\\xb4\\x9aC\\x80\\x84\\xf71\\xd9\\xdb\\xaft\\xda\\x8d\\xf9+\\x82\\xdb\\x96~\\xd8\\x98\\xb6s\\xcb\\x88\\xaet\\x80\\xd5\\xfb3\\xd4\\x98\\xb7d\\xc7\\xdb\\xe11\\x80\\xb4\\x94K\\x80\\x84\\xf71\\xd9\\xdb\\xaft\\xda\\x8d\\xf9+\\x82\\xdb\\x95p\\xcf\\x90\\xb9x\\xc3\\xdb\\xf71\\x80\\x8f\\xba}\\xd7\\x9c\\xf9+\\x82\\xdb\\x95P\\xef\\xdb\\xa6=\\x82\\x82\\xf9e\\xc7\\x81\\xaf3\\x98\\xd9\\xf9_\\xc7\\x8d\\xb3t\\xd0\\x95\\xba\\x7f\\xc6\\x8a\\xf9=\\x82\\xdb\\xadp\\xce\\x8c\\xbe3\\x98\\xd9\\xf9_\\xe7\\xbd\\xf9l\\x8e\\xd9\\xa03\\xd6\\x9c\\xa3e\\x80\\xc3\\xfb3\\xec\\x9c\\xafy\\xc7\\x8b\\xb7p\\xcc\\x9d\\xa81\\xe3\\x97\\xafx\\xce\\x95\\xbeb\\x88\\xdb\\xf71\\x80\\x8f\\xba}\\xd7\\x9c\\xf9+\\x82\\xdb\\x9aY\\xed\\xdb\\xa6=\\x82\\x82\\xf9e\\xc7\\x81\\xaf3\\x98\\xd9\\xf9_\\xc7\\x8e\\xfbK\\xc7\\x98\\xb7p\\xcc\\x9d\\xf9=\\x82\\xdb\\xadp\\xce\\x8c\\xbe3\\x98\\xd9\\xf9_\\xf8\\xb5\\xf9l\\x8e\\xd9\\xa03\\xd6\\x9c\\xa3e\\x80\\xc3\\xfb3\\xec\\x90\\xbct\\xd0\\xdb\\xf71\\x80\\x8f\\xba}\\xd7\\x9c\\xf9+\\x82\\xdb\\x95X\\xe5\\xdb\\xa6=\\x82\\x82\\xf9e\\xc7\\x81\\xaf3\\x98\\xd9\\xf9_\\xcb\\x9e\\xbec\\xcb\\x98\\xf9=\\x82\\xdb\\xadp\\xce\\x8c\\xbe3\\x98\\xd9\\xf9_\\xe5\\xab\\xf9l\\x8e\\xd9\\xa03\\xd6\\x9c\\xa3e\\x80\\xc3\\xfb3\\xec\\x96\\xa9f\\xc3\\x80\\xf9=\\x82\\xdb\\xadp\\xce\\x8c\\xbe3\\x98\\xd9\\xf9_\\xed\\xab\\xf9l\\x8e\\xd9\\xa03\\xd6\\x9c\\xa3e\\x80\\xc3\\xfb3\\xf2\\x98\\xb0x\\xd1\\x8d\\xba\\x7f\\x80\\xd5\\xfb3\\xd4\\x98\\xb7d\\xc7\\xdb\\xe11\\x80\\xa9\\x9aZ\\x80\\x84\\xf71\\xd9\\xdb\\xaft\\xda\\x8d\\xf9+\\x82\\xdb\\x8bp\\xcc\\x98\\xb6p\\x80\\xd5\\xfb3\\xd4\\x98\\xb7d\\xc7\\xdb\\xe11\\x80\\xa9\\x9a_\\x80\\x84\\xf71\\xd9\\xdb\\xaft\\xda\\x8d\\xf9+\\x82\\xdb\\x8bp\\xd0\\x98\\xbcd\\xc3\\x80\\xf9=\\x82\\xdb\\xadp\\xce\\x8c\\xbe3\\x98\\xd9\\xf9A\\xe3\\xab\\xf9l\\x8e\\xd9\\xa03\\xd6\\x9c\\xa3e\\x80\\xc3\\xfb3\\xf2\\x9c\\xa9d\\x80\\xd5\\xfb3\\xd4\\x98\\xb7d\\xc7\\xdb\\xe11\\x80\\xa9\\x9eC\\x80\\x84\\xf71\\xd9\\xdb\\xaft\\xda\\x8d\\xf9+\\x82\\xdb\\x8by\\xcb\\x95\\xb2a\\xd2\\x90\\xb5t\\xd1\\xdb\\xf71\\x80\\x8f\\xba}\\xd7\\x9c\\xf9+\\x82\\xdb\\x8bY\\xeb\\xdb\\xa6=\\x82\\x82\\xf9e\\xc7\\x81\\xaf3\\x98\\xd9\\xf9A\\xcd\\x95\\xba\\x7f\\xc6\\xdb\\xf71\\x80\\x8f\\xba}\\xd7\\x9c\\xf9+\\x82\\xdb\\x8b^\\xee\\xdb\\xa6=\\x82\\x82\\xf9e\\xc7\\x81\\xaf3\\x98\\xd9\\xf9A\\xcd\\x8b\\xafd\\xc5\\x98\\xb73\\x8e\\xd9\\xf9g\\xc3\\x95\\xaet\\x80\\xc3\\xfb3\\xf2\\xb6\\x893\\xdf\\xd5\\xfbj\\x80\\x8d\\xbei\\xd6\\xdb\\xe11\\x80\\xa9\\xaet\\xd0\\x8d\\xb41\\xf0\\x90\\xb8~\\x88\\xdb\\xf71\\x80\\x8f\\xba}\\xd7\\x9c\\xf9+\\x82\\xdb\\x8bD\\xf0\\xdb\\xa6=\\x82\\x82\\xf9e\\xc7\\x81\\xaf3\\x98\\xd9\\xf9@\\xc3\\x8d\\xbac\\x80\\xd5\\xfb3\\xd4\\x98\\xb7d\\xc7\\xdb\\xe11\\x80\\xa8\\x9aE\\x80\\x84\\xf71\\xd9\\xdb\\xaft\\xda\\x8d\\xf9+\\x82\\xdb\\x89d\\xd1\\x8a\\xb2p\\x80\\xd5\\xfb3\\xd4\\x98\\xb7d\\xc7\\xdb\\xe11\\x80\\xab\\x8eB\\x80\\x84\\xf71\\xd9\\xdb\\xaft\\xda\\x8d\\xf9+\\x82\\xdb\\x88p\\xd7\\x9d\\xb21\\xe3\\x8b\\xbas\\xcb\\x98\\xf9=\\x82\\xdb\\xadp\\xce\\x8c\\xbe3\\x98\\xd9\\xf9Z\\xf1\\xb8\\xf9l\\x8e\\xd9\\xa03\\xd6\\x9c\\xa3e\\x80\\xc3\\xfb3\\xf1\\x9c\\xb5t\\xc5\\x98\\xb73\\x8e\\xd9\\xf9g\\xc3\\x95\\xaet\\x80\\xc3\\xfb3\\xf1\\xbc\\x953\\xdf\\xd5\\xfbj\\x80\\x8d\\xbei\\xd6\\xdb\\xe11\\x80\\xaa\\xbec\\xc0\\x90\\xba3\\x8e\\xd9\\xf9g\\xc3\\x95\\xaet\\x80\\xc3\\xfb3\\xf1\\xba\\x9c3\\xdf\\xd5\\xfbj\\x80\\x8d\\xbei\\xd6\\xdb\\xe11\\x80\\xaa\\xb2\\x7f\\xc5\\x98\\xab~\\xd0\\x9c\\xf9=\\x82\\xdb\\xadp\\xce\\x8c\\xbe3\\x98\\xd9\\xf9B\\xeb\\xb7\\xf9l\\x8e\\xd9\\xa03\\xd6\\x9c\\xa3e\\x80\\xc3\\xfb3\\xf1\\x95\\xb4g\\xc3\\x92\\xb2p\\x80\\xd5\\xfb3\\xd4\\x98\\xb7d\\xc7\\xdb\\xe11\\x80\\xaa\\x8dZ\\x80\\x84\\xf71\\xd9\\xdb\\xaft\\xda\\x8d\\xf9+\\x82\\xdb\\x88}\\xcd\\x8f\\xbe\\x7f\\xcb\\x98\\xf9=\\x82\\xdb\\xadp\\xce\\x8c\\xbe3\\x98\\xd9\\xf9B\\xee\\xb6\\xf9l\\x8e\\xd9\\xa03\\xd6\\x9c\\xa3e\\x80\\xc3\\xfb3\\xf1\\x96\\xaee\\xca\\xd9\\x9aw\\xd0\\x90\\xb8p\\x80\\xd5\\xfb3\\xd4\\x98\\xb7d\\xc7\\xdb\\xe11\\x80\\xab\\x88P\\x80\\x84\\xf71\\xd9\\xdb\\xaft\\xda\\x8d\\xf9+\\x82\\xdb\\x88a\\xc3\\x90\\xb53\\x8e\\xd9\\xf9g\\xc3\\x95\\xaet\\x80\\xc3\\xfb3\\xe7\\xaa\\x8b3\\xdf\\xd5\\xfbj\\x80\\x8d\\xbei\\xd6\\xdb\\xe11\\x80\\xaa\\xa9x\\x82\\xb5\\xba\\x7f\\xc9\\x98\\xf9=\\x82\\xdb\\xadp\\xce\\x8c\\xbe3\\x98\\xd9\\xf9B\\xf0\\xb0\\xf9l\\x8e\\xd9\\xa03\\xd6\\x9c\\xa3e\\x80\\xc3\\xfb3\\xf1\\x8c\\xbfp\\xcc\\xdb\\xf71\\x80\\x8f\\xba}\\xd7\\x9c\\xf9+\\x82\\xdb\\x88D\\xe6\\xdb\\xa6=\\x82\\x82\\xf9e\\xc7\\x81\\xaf3\\x98\\xd9\\xf9B\\xd7\\x8b\\xb2\\x7f\\xc3\\x94\\xbe3\\x8e\\xd9\\xf9g\\xc3\\x95\\xaet\\x80\\xc3\\xfb3\\xf1\\xac\\x893\\xdf\\xd5\\xfbj\\x80\\x8d\\xbei\\xd6\\xdb\\xe11\\x80\\xaa\\xact\\xc6\\x9c\\xb53\\x8e\\xd9\\xf9g\\xc3\\x95\\xaet\\x80\\xc3\\xfb3\\xf1\\xae\\x9e3\\xdf\\xd5\\xfbj\\x80\\x8d\\xbei\\xd6\\xdb\\xe11\\x80\\xaa\\xacx\\xd6\\x83\\xbec\\xce\\x98\\xb5u\\x80\\xd5\\xfb3\\xd4\\x98\\xb7d\\xc7\\xdb\\xe11\\x80\\xaa\\x8eX\\x80\\x84\\xf71\\xd9\\xdb\\xaft\\xda\\x8d\\xf9+\\x82\\xdb\\x88h\\xd0\\x90\\xba3\\x8e\\xd9\\xf9g\\xc3\\x95\\xaet\\x80\\xc3\\xfb3\\xf1\\xa0\\x893\\xdf\\xd5\\xfbj\\x80\\x8d\\xbei\\xd6\\xdb\\xe11\\x80\\xad\\xbax\\xd5\\x98\\xb53\\x8e\\xd9\\xf9g\\xc3\\x95\\xaet\\x80\\xc3\\xfb3\\xf6\\xa9\\x9e3\\xdf\\xd5\\xfbj\\x80\\x8d\\xbei\\xd6\\xdb\\xe11\\x80\\xad\\xba{\\xcb\\x92\\xb2b\\xd6\\x98\\xb53\\x8e\\xd9\\xf9g\\xc3\\x95\\xaet\\x80\\xc3\\xfb3\\xf6\\xb3\\x903\\xdf\\xd5\\xfbj\\x80\\x8d\\xbei\\xd6\\xdb\\xe11\\x80\\xad\\xba\\x7f\\xd8\\x98\\xb5x\\xc3\\xdb\\xf71\\x80\\x8f\\xba}\\xd7\\x9c\\xf9+\\x82\\xdb\\x8fP\\xec\\xdb\\xa6=\\x82\\x82\\xf9e\\xc7\\x81\\xaf3\\x98\\xd9\\xf9E\\xca\\x98\\xb2}\\xc3\\x97\\xbf3\\x8e\\xd9\\xf9g\\xc3\\x95\\xaet\\x80\\xc3\\xfb3\\xf6\\xb1\\x9a3\\xdf\\xd5\\xfbj\\x80\\x8d\\xbei\\xd6\\xdb\\xe11\\x80\\xad\\xb4v\\xcd\\xdb\\xf71\\x80\\x8f\\xba}\\xd7\\x9c\\xf9+\\x82\\xdb\\x8f^\\xe5\\xdb\\xa6=\\x82\\x82\\xf9e\\xc7\\x81\\xaf3\\x98\\xd9\\xf9E\\xcd\\x97\\xbcp\\x80\\xd5\\xfb3\\xd4\\x98\\xb7d\\xc7\\xdb\\xe11\\x80\\xad\\x9cP\\x80\\x84\\xf71\\xd9\\xdb\\xaft\\xda\\x8d\\xf9+\\x82\\xdb\\x8fc\\xcb\\x97\\xb2u\\xc3\\x9d\\xfbp\\xcc\\x9d\\xfbE\\xcd\\x9b\\xbav\\xcd\\xdb\\xf71\\x80\\x8f\\xba}\\xd7\\x9c\\xf9+\\x82\\xdb\\x8fC\\xeb\\xdb\\xa6=\\x82\\x82\\xf9e\\xc7\\x81\\xaf3\\x98\\xd9\\xf9E\\xd7\\x97\\xb2b\\xcb\\x98\\xf9=\\x82\\xdb\\xadp\\xce\\x8c\\xbe3\\x98\\xd9\\xf9E\\xf7\\xb7\\xf9l\\x8e\\xd9\\xa03\\xd6\\x9c\\xa3e\\x80\\xc3\\xfb3\\xf6\\x8c\\xa9z\\xc7\\x80\\xf9=\\x82\\xdb\\xadp\\xce\\x8c\\xbe3\\x98\\xd9\\xf9E\\xf7\\xab\\xf9l\\x8e\\xd9\\xa03\\xd6\\x9c\\xa3e\\x80\\xc3\\xfb3\\xf7\\x9e\\xba\\x7f\\xc6\\x98\\xf9=\\x82\\xdb\\xadp\\xce\\x8c\\xbe3\\x98\\xd9\\xf9D\\xe5\\xb8\\xf9l\\x8e\\xd9\\xa03\\xd6\\x9c\\xa3e\\x80\\xc3\\xfb3\\xf7\\x92\\xa9p\\xcb\\x97\\xbe3\\x8e\\xd9\\xf9g\\xc3\\x95\\xaet\\x80\\xc3\\xfb3\\xf7\\xb2\\x893\\xdf\\xd5\\xfbj\\x80\\x8d\\xbei\\xd6\\xdb\\xe11\\x80\\xac\\xb5x\\xd6\\x9c\\xbf1\\xe3\\x8b\\xbas\\x82\\xbc\\xb6x\\xd0\\x98\\xaft\\xd1\\xdb\\xf71\\x80\\x8f\\xba}\\xd7\\x9c\\xf9+\\x82\\xdb\\x8eP\\xe7\\xdb\\xa6=\\x82\\x82\\xf9e\\xc7\\x81\\xaf3\\x98\\xd9\\xf9D\\xcc\\x90\\xaft\\xc6\\xd9\\x90x\\xcc\\x9e\\xbf~\\xcf\\xdb\\xf71\\x80\\x8f\\xba}\\xd7\\x9c\\xf9+\\x82\\xdb\\x9cS\\xf0\\xdb\\xa6=\\x82\\x82\\xf9e\\xc7\\x81\\xaf3\\x98\\xd9\\xf9D\\xcc\\x90\\xaft\\xc6\\xd9\\x88e\\xc3\\x8d\\xbeb\\x80\\xd5\\xfb3\\xd4\\x98\\xb7d\\xc7\\xdb\\xe11\\x80\\xac\\x88P\\x80\\x84\\xf71\\xd9\\xdb\\xaft\\xda\\x8d\\xf9+\\x82\\xdb\\x8ec\\xd7\\x9e\\xaep\\xdb\\xdb\\xf71\\x80\\x8f\\xba}\\xd7\\x9c\\xf9+\\x82\\xdb\\x8eC\\xf7\\xdb\\xa6=\\x82\\x82\\xf9e\\xc7\\x81\\xaf3\\x98\\xd9\\xf9D\\xd8\\x9b\\xbez\\xcb\\x8a\\xafp\\xcc\\xdb\\xf71\\x80\\x8f\\xba}\\xd7\\x9c\\xf9+\\x82\\xdb\\x8eK\\xe0\\xdb\\xa6=\\x82\\x82\\xf9e\\xc7\\x81\\xaf3\\x98\\xd9\\xf9G\\xc7\\x97\\xbek\\xd7\\x9c\\xb7p\\x80\\xd5\\xfb3\\xd4\\x98\\xb7d\\xc7\\xdb\\xe11\\x80\\xaf\\x9e_\\x80\\x84\\xf71\\xd9\\xdb\\xaft\\xda\\x8d\\xf9+\\x82\\xdb\\x8dx\\xc7\\x8d\\xb5p\\xcf\\xdb\\xf71\\x80\\x8f\\xba}\\xd7\\x9c\\xf9+\\x82\\xdb\\x8dX\\xe7\\xdb\\xa6=\\x82\\x82\\xf9e\\xc7\\x81\\xaf3\\x98\\xd9\\xf9G\\xcb\\x8b\\xbcx\\xcc\\xd9\\x92b\\xce\\x98\\xb5u\\xd1\\xd3\\xf9=\\x82\\xdb\\xadp\\xce\\x8c\\xbe3\\x98\\xd9\\xf9X\\xf1\\xaf\\xf9l\\x8e\\xd9\\xa03\\xd6\\x9c\\xa3e\\x80\\xc3\\xfb3\\xf8\\x98\\xb6s\\xcb\\x98\\xf9=\\x82\\xdb\\xadp\\xce\\x8c\\xbe3\\x98\\xd9\\xf9K\\xe3\\xb4\\xf9l\\x8e\\xd9\\xa03\\xd6\\x9c\\xa3e\\x80\\xc3\\xfb3\\xf8\\x90\\xb6s\\xc3\\x9b\\xact\\x80\\xd5\\xfb3\\xd4\\x98\\xb7d\\xc7\\xdb\\xe11\\x80\\xa3\\x92\\\\\\x80\\x84\\x86l'\n",
      "error from callback <function on_message at 0x7f624fbbaed8>: 'cmd'\n"
     ]
    },
    {
     "name": "stdout",
     "output_type": "stream",
     "text": [
      "{\"cmd\":\"COUNTRIES\"}\n",
      "{\"forcmd\": \"COUNTRIES\", \"response\": [{\"text\": \"Afghanistan\", \"value\": \"AFG\"}, {\"text\": \"Algeria\", \"value\": \"ALG\"}, {\"text\": \"Argentina\", \"value\": \"ARG\"}, {\"text\": \"Armenia\", \"value\": \"ARM\"}, {\"text\": \"Australia\", \"value\": \"AUS\"}, {\"text\": \"Austria\", \"value\": \"AUT\"}, {\"text\": \"Azerbaijan\", \"value\": \"AZE\"}, {\"text\": \"Bahamas\", \"value\": \"BAH\"}, {\"text\": \"Barbados\", \"value\": \"BAR\"}, {\"text\": \"Belarus\", \"value\": \"BLR\"}, {\"text\": \"Belgium\", \"value\": \"BEL\"}, {\"text\": \"Bermuda*\", \"value\": \"BER\"}, {\"text\": \"Brazil\", \"value\": \"BRA\"}, {\"text\": \"Bulgaria\", \"value\": \"BUL\"}, {\"text\": \"Burundi\", \"value\": \"BDI\"}, {\"text\": \"Cameroon\", \"value\": \"CMR\"}, {\"text\": \"Canada\", \"value\": \"CAN\"}, {\"text\": \"Chile\", \"value\": \"CHI\"}, {\"text\": \"China\", \"value\": \"CHN\"}, {\"text\": \"Colombia\", \"value\": \"COL\"}, {\"text\": \"Costa Rica\", \"value\": \"CRC\"}, {\"text\": \"Cote d'Ivoire\", \"value\": \"CIV\"}, {\"text\": \"Croatia\", \"value\": \"CRO\"}, {\"text\": \"Cuba\", \"value\": \"CUB\"}, {\"text\": \"Czech Republic\", \"value\": \"CZE\"}, {\"text\": \"Denmark\", \"value\": \"DEN\"}, {\"text\": \"Djibouti\", \"value\": \"DJI\"}, {\"text\": \"Dominican Republic\", \"value\": \"DOM\"}, {\"text\": \"Ecuador\", \"value\": \"ECU\"}, {\"text\": \"Egypt\", \"value\": \"EGY\"}, {\"text\": \"Eritrea\", \"value\": \"ERI\"}, {\"text\": \"Estonia\", \"value\": \"EST\"}, {\"text\": \"Ethiopia\", \"value\": \"ETH\"}, {\"text\": \"Finland\", \"value\": \"FIN\"}, {\"text\": \"France\", \"value\": \"FRA\"}, {\"text\": \"Georgia\", \"value\": \"GEO\"}, {\"text\": \"Germany\", \"value\": \"GER\"}, {\"text\": \"Ghana\", \"value\": \"GHA\"}, {\"text\": \"Greece\", \"value\": \"GRE\"}, {\"text\": \"Guyana\", \"value\": \"GUY\"}, {\"text\": \"Haiti\", \"value\": \"HAI\"}, {\"text\": \"Hong Kong*\", \"value\": \"HKG\"}, {\"text\": \"Hungary\", \"value\": \"HUN\"}, {\"text\": \"Iceland\", \"value\": \"ISL\"}, {\"text\": \"India\", \"value\": \"IND\"}, {\"text\": \"Indonesia\", \"value\": \"INA\"}, {\"text\": \"Iran\", \"value\": \"IRI\"}, {\"text\": \"Iraq\", \"value\": \"IRQ\"}, {\"text\": \"Ireland\", \"value\": \"IRL\"}, {\"text\": \"Israel\", \"value\": \"ISR\"}, {\"text\": \"Italy\", \"value\": \"ITA\"}, {\"text\": \"Jamaica\", \"value\": \"JAM\"}, {\"text\": \"Japan\", \"value\": \"JPN\"}, {\"text\": \"Kazakhstan\", \"value\": \"KAZ\"}, {\"text\": \"Kenya\", \"value\": \"KEN\"}, {\"text\": \"Korea, North\", \"value\": \"PRK\"}, {\"text\": \"Korea, South\", \"value\": \"KOR\"}, {\"text\": \"Kuwait\", \"value\": \"KUW\"}, {\"text\": \"Kyrgyzstan\", \"value\": \"KGZ\"}, {\"text\": \"Latvia\", \"value\": \"LAT\"}, {\"text\": \"Lebanon\", \"value\": \"LIB\"}, {\"text\": \"Lithuania\", \"value\": \"LTU\"}, {\"text\": \"Luxembourg\", \"value\": \"LUX\"}, {\"text\": \"Macedonia\", \"value\": \"MKD\"}, {\"text\": \"Malaysia\", \"value\": \"MAS\"}, {\"text\": \"Mauritius\", \"value\": \"MRI\"}, {\"text\": \"Mexico\", \"value\": \"MEX\"}, {\"text\": \"Moldova\", \"value\": \"MDA\"}, {\"text\": \"Mongolia\", \"value\": \"MGL\"}, {\"text\": \"Morocco\", \"value\": \"MAR\"}, {\"text\": \"Mozambique\", \"value\": \"MOZ\"}, {\"text\": \"Namibia\", \"value\": \"NAM\"}, {\"text\": \"Netherlands\", \"value\": \"NED\"}, {\"text\": \"Netherlands Antilles*\", \"value\": \"AHO\"}, {\"text\": \"New Zealand\", \"value\": \"NZL\"}, {\"text\": \"Niger\", \"value\": \"NIG\"}, {\"text\": \"Nigeria\", \"value\": \"NGR\"}, {\"text\": \"Norway\", \"value\": \"NOR\"}, {\"text\": \"Pakistan\", \"value\": \"PAK\"}, {\"text\": \"Panama\", \"value\": \"PAN\"}, {\"text\": \"Paraguay\", \"value\": \"PAR\"}, {\"text\": \"Peru\", \"value\": \"PER\"}, {\"text\": \"Philippines\", \"value\": \"PHI\"}, {\"text\": \"Poland\", \"value\": \"POL\"}, {\"text\": \"Portugal\", \"value\": \"POR\"}, {\"text\": \"Puerto Rico*\", \"value\": \"PUR\"}, {\"text\": \"Qatar\", \"value\": \"QAT\"}, {\"text\": \"Russia\", \"value\": \"RUS\"}, {\"text\": \"Saudi Arabia\", \"value\": \"KSA\"}, {\"text\": \"Senegal\", \"value\": \"SEN\"}, {\"text\": \"Serbia\", \"value\": \"SCG\"}, {\"text\": \"Singapore\", \"value\": \"SIN\"}, {\"text\": \"Slovakia\", \"value\": \"SVK\"}, {\"text\": \"Slovenia\", \"value\": \"SLO\"}, {\"text\": \"South Africa\", \"value\": \"RSA\"}, {\"text\": \"Spain\", \"value\": \"ESP\"}, {\"text\": \"Sri Lanka\", \"value\": \"SRI\"}, {\"text\": \"Sudan\", \"value\": \"SUD\"}, {\"text\": \"Suriname\", \"value\": \"SUR\"}, {\"text\": \"Sweden\", \"value\": \"SWE\"}, {\"text\": \"Switzerland\", \"value\": \"SUI\"}, {\"text\": \"Syria\", \"value\": \"SYR\"}, {\"text\": \"Taiwan\", \"value\": \"TPE\"}, {\"text\": \"Tajikistan\", \"value\": \"TJK\"}, {\"text\": \"Tanzania\", \"value\": \"TAN\"}, {\"text\": \"Thailand\", \"value\": \"THA\"}, {\"text\": \"Togo\", \"value\": \"TOG\"}, {\"text\": \"Tonga\", \"value\": \"TGA\"}, {\"text\": \"Trinidad and Tobago\", \"value\": \"TRI\"}, {\"text\": \"Tunisia\", \"value\": \"TUN\"}, {\"text\": \"Turkey\", \"value\": \"TUR\"}, {\"text\": \"Uganda\", \"value\": \"UGA\"}, {\"text\": \"Ukraine\", \"value\": \"UKR\"}, {\"text\": \"United Arab Emirates\", \"value\": \"UAE\"}, {\"text\": \"United Kingdom\", \"value\": \"GBR\"}, {\"text\": \"United States\", \"value\": \"USA\"}, {\"text\": \"Uruguay\", \"value\": \"URU\"}, {\"text\": \"Uzbekistan\", \"value\": \"UZB\"}, {\"text\": \"Venezuela\", \"value\": \"VEN\"}, {\"text\": \"Vietnam\", \"value\": \"VIE\"}, {\"text\": \"Virgin Islands*\", \"value\": \"ISV\"}, {\"text\": \"Zambia\", \"value\": \"ZAM\"}, {\"text\": \"Zimbabwe\", \"value\": \"ZIM\"}]}\n"
     ]
    },
    {
     "name": "stderr",
     "output_type": "stream",
     "text": [
      "  File \"/gpfs/fs01/user/s973-7d640fb4db0d6f-c5c16a29391b/.local/lib/python2.7/site-packages/websocket/_app.py\", line 269, in _callback\n",
      "    callback(self, *args)\n",
      "  File \"<ipython-input-12-8f349f373a9f>\", line 4, in on_message\n",
      "    cmd = msg['cmd']\n",
      "send: \"\\x81\\xfe\\x03J\\x05\\xd8nD~\\xfa\\x08+w\\xbb\\x03 '\\xe2Nf@\\x9c'\\x10L\\x97 \\x17'\\xf4Nfw\\xbd\\x1d4j\\xb6\\x1d!'\\xe2N\\x1f~\\xfa\\x1a!}\\xacL~%\\xe9V}3\\xf4Nfs\\xb9\\x021`\\xfaTd4\\xe0Wrx\\xf4N?'\\xac\\x0b<q\\xfaTd4\\xe1^t)\\xf8L2d\\xb4\\x1b!'\\xe2Nu<\\xe8^9)\\xf8\\x15fq\\xbd\\x160'\\xe2Nu<\\xe8Zh%\\xfa\\x18%i\\xad\\x0bf?\\xf8_}5\\xec\\x13h%\\xa3L0`\\xa0\\x1af?\\xf8_}5\\xe0Bd'\\xae\\x0f(p\\xbdL~%\\xe9Wt=\\xa5Bd~\\xfa\\x1a!}\\xacL~%\\xe9Wu7\\xf4Nfs\\xb9\\x021`\\xfaTd4\\xe1_vx\\xf4N?'\\xac\\x0b<q\\xfaTd4\\xe1\\\\p)\\xf8L2d\\xb4\\x1b!'\\xe2Nu<\\xeaZ9)\\xf8\\x15fq\\xbd\\x160'\\xe2Nu<\\xeaVh%\\xfa\\x18%i\\xad\\x0bf?\\xf8_}7\\xe0\\x13h%\\xa3L0`\\xa0\\x1af?\\xf8_}6\\xeaBd'\\xae\\x0f(p\\xbdL~%\\xe9Ww7\\xa5Bd~\\xfa\\x1a!}\\xacL~%\\xe9Ww3\\xf4Nfs\\xb9\\x021`\\xfaTd4\\xe1]rx\\xf4N?'\\xac\\x0b<q\\xfaTd4\\xe1Z|)\\xf8L2d\\xb4\\x1b!'\\xe2Nu<\\xecV9)\\xf8\\x15fq\\xbd\\x160'\\xe2Nu<\\xed\\\\h%\\xfa\\x18%i\\xad\\x0bf?\\xf8_}0\\xea\\x13h%\\xa3L0`\\xa0\\x1af?\\xf8_}0\\xeeBd'\\xae\\x0f(p\\xbdL~%\\xe9Wq3\\xa5Bd~\\xfa\\x1a!}\\xacL~%\\xe9Wr5\\xf4Nfs\\xb9\\x021`\\xfaTd4\\xe1Xtx\\xf4N?'\\xac\\x0b<q\\xfaTd4\\xe1Xp)\\xf8L2d\\xb4\\x1b!'\\xe2Nu<\\xeeZ9)\\xf8\\x15fq\\xbd\\x160'\\xe2Nu<\\xeeVh%\\xfa\\x18%i\\xad\\x0bf?\\xf8_}3\\xe0\\x13h%\\xa3L0`\\xa0\\x1af?\\xf8_}2\\xeaBd'\\xae\\x0f(p\\xbdL~%\\xe9Ws7\\xa5Bd~\\xfa\\x1a!}\\xacL~%\\xe9Ws3\\xf4Nfs\\xb9\\x021`\\xfaTd4\\xe1Yrx\\xf4N?'\\xac\\x0b<q\\xfaTd4\\xe1Vt)\\xf8L2d\\xb4\\x1b!'\\xe2Nu<\\xe0^9)\\xf8\\x15fq\\xbd\\x160'\\xe2Nu<\\xe0Vh%\\xfa\\x18%i\\xad\\x0bf?\\xf8_}=\\xe0\\x13h%\\xa3L0`\\xa0\\x1af?\\xf8_}<\\xeaBd'\\xae\\x0f(p\\xbdL~%\\xe9W}7\\xa5Bd~\\xfa\\x1a!}\\xacL~%\\xe9W}3\\xf4Nfs\\xb9\\x021`\\xfaTd4\\xe1Wrx\\xf4N?'\\xac\\x0b<q\\xfaTd7\\xe8^t)\\xf8L2d\\xb4\\x1b!'\\xe2Nv5\\xe8^9)\\xf8\\x15fq\\xbd\\x160'\\xe2Nv5\\xe8Zh%\\xfa\\x18%i\\xad\\x0bf?\\xf8\\\\t5\\xec\\x13h%\\xa3L0`\\xa0\\x1af?\\xf8\\\\t5\\xe0Bd'\\xae\\x0f(p\\xbdL~%\\xea^t=\\xa5Bd~\\xfa\\x1a!}\\xacL~%\\xe9W|1\\xf4Nfs\\xb9\\x021`\\xfaTd4\\xe1Vpx\\xf4N?'\\xac\\x0b<q\\xfaTd4\\xe1\\\\t)\\xf8L2d\\xb4\\x1b!'\\xe2Nu<\\xea^9X\\xa5\"\n",
      "error from callback <function on_message at 0x7f624fbbaed8>: 'cmd'\n"
     ]
    },
    {
     "name": "stdout",
     "output_type": "stream",
     "text": [
      "{\"cmd\":\"EDITIONS\"}\n",
      "{\"forcmd\": \"EDITIONS\", \"response\": [{\"text\": 1896, \"value\": 1896}, {\"text\": 1900, \"value\": 1900}, {\"text\": 1904, \"value\": 1904}, {\"text\": 1908, \"value\": 1908}, {\"text\": 1912, \"value\": 1912}, {\"text\": 1924, \"value\": 1924}, {\"text\": 1928, \"value\": 1928}, {\"text\": 1932, \"value\": 1932}, {\"text\": 1936, \"value\": 1936}, {\"text\": 1948, \"value\": 1948}, {\"text\": 1952, \"value\": 1952}, {\"text\": 1956, \"value\": 1956}, {\"text\": 1960, \"value\": 1960}, {\"text\": 1964, \"value\": 1964}, {\"text\": 1968, \"value\": 1968}, {\"text\": 1972, \"value\": 1972}, {\"text\": 1976, \"value\": 1976}, {\"text\": 1980, \"value\": 1980}, {\"text\": 1988, \"value\": 1988}, {\"text\": 1992, \"value\": 1992}, {\"text\": 1996, \"value\": 1996}, {\"text\": 2000, \"value\": 2000}, {\"text\": 2004, \"value\": 2004}, {\"text\": 2008, \"value\": 2008}, {\"text\": 1984, \"value\": 1984}, {\"text\": 1920, \"value\": 1920}]}\n"
     ]
    },
    {
     "name": "stderr",
     "output_type": "stream",
     "text": [
      "  File \"/gpfs/fs01/user/s973-7d640fb4db0d6f-c5c16a29391b/.local/lib/python2.7/site-packages/websocket/_app.py\", line 269, in _callback\n",
      "    callback(self, *args)\n",
      "  File \"<ipython-input-12-8f349f373a9f>\", line 4, in on_message\n",
      "    cmd = msg['cmd']\n",
      "send: '\\x81\\xfe\\x02\\x8bz\\xc6f\\xee\\x01\\xe4\\x00\\x81\\x08\\xa5\\x0b\\x8aX\\xfcF\\xcc>\\x872\\xafX\\xeaF\\xcc\\x08\\xa3\\x15\\x9e\\x15\\xa8\\x15\\x8bX\\xfcF\\x95X\\xb0\\x07\\x82\\t\\xe4\\\\\\xce!\\x9dD\\xac\\x1f\\xaf\\x0c\\x87\\x14\\xa1D\\xc2Z\\xf4V\\xdeB\\xeaF\\xcc8\\xa9\\x1e\\x87\\x14\\xa1D\\xc2Z\\xe4$\\x81\\x02\\xaf\\x08\\x89X\\xeaF\\xcc1\\x93+\\xaf(\\xeaF\\xb8\\x13\\xac\\x03\\x80\\x1e\\xa3\\x14\\xccV\\xe6D\\xa74\\x82D\\xc2Z\\xe4+\\x8b\\x14\\xe4J\\xceX\\xf0_\\xceW\\xe6Q\\xdbZ\\xad\\x01\\xccV\\xe6D\\xa3X\\xeaF\\xcc8\\xb4\\t\\x80\\x00\\xa3D\\xc2Z\\xe4/\\x80\\x1e\\xaf\\x07\\xccV\\xe6W\\xddK\\xf7V\\xdbJ\\xf3T\\xd9T\\xf6J\\xceK\\xf3_\\xd6T\\xf4S\\xd7J\\xf5R\\xdcK\\xffW\\xd8\\'\\xeaF\\xb5X\\x84\\x03\\x87\\x10\\xaf\\x08\\x89X\\xeaF\\xdcJ\\xf6^\\xc2Z\\xe45\\x86\\x15\\xa9\\x12\\x87\\x14\\xa1D\\xc2Z\\xe45\\x86\\x15\\xa9\\x12\\x87\\x14\\xa1D\\xc2Z\\xe4$\\xa74\\x824\\xafV\\xe6\\'\\x8c\\x12\\xaf\\x08\\x8f\\x0c\\xe4J\\xceX\\x8f(\\xaaX\\xeaF\\xcc7\\xa3\\x08\\xccV\\xe6D\\xdfJ\\xabF\\x8f\\x13\\xb4F\\x9c\\x13\\xa0\\n\\x8bZ\\xeeP\\xdeZ\\xb5\\x0e\\x81\\x0e\\xb5O\\xccV\\xe6D\\xa3X\\xeaF\\xcc=\\xa9\\n\\x8aX\\xeaF\\xcc3\\xa8\\x02\\x87\\x1b\\xe4J\\xceK\\xf5W\\xdfJ\\xf3V\\xdbH\\xf1H\\xdeV\\xe6W\\xdbC\\xfeH\\xdcO\\xffV\\xddN\\xf4W\\xd7K\\xf0;\\xc2Z\\x9dD\\xac\\x1f\\xaf\\x0c\\x87\\x14\\xa1D\\xc2Z\\xf4V\\xdeB\\xeaF\\xcc-\\xb4\\x03\\x9d\\x0e\\xaa\\x0f\\x80\\x1d\\xe4J\\xceX\\x91\\x14\\x8b\\t\\xb2\\n\\x87\\x14\\xa1F\\xa8\\x08\\xa3\\x03\\xc0X\\xeaF\\xcc1\\x93+\\xaf(\\xeaF\\xbd\\x0f\\xb5\\x0e\\x87\\x16\\xe4J\\xceX\\x8f(\\xaaX\\xeaF\\xcc7\\xa3\\x08\\xccV\\xe6D\\xd8J\\xe6K\\xceL\\xf0\\r\\x89X\\xeaF\\xcc7\\xe4J\\xceX\\x84\\x14\\x81\\x14\\xbc\\x03\\xccV\\xe6D\\xa7\\x14\\xa2\\x0f\\x8fX\\xeaF\\xdfI\\xf7W\\xdeO\\xf6S\\xdcM\\xe8V\\xc2Z\\xf7S\\xd7B\\xe8T\\xdbC\\xf6U\\xdaH\\xf7_\\xdfL\\x9b;\\xc2Z\\xe4\\x05\\x81\\x16\\xb5D\\xd4Z\\x9dD\\xad\\x13\\xb2\\x1f\\xccV\\xe6D\\xab\\x1e\\xaf\\x12\\x87\\x15\\xa8D\\xc2Z\\xe45\\x9e\\x15\\xb4\\x12\\xccV\\xe6D\\xaa\\x13\\xb5\\x05\\x87\\n\\xaa\\x0f\\x80\\x1f\\xe4J\\xceX\\x87\\x12\\x86\\x16\\xa3\\x12\\x8bX\\xeaF\\xcc9\\xa9\\x02\\x8bX\\xeaF\\xcc=\\xa3\\x08\\x8a\\x1f\\xb4D\\xc2Z\\xe4#\\x98\\x1f\\xa8\\x12\\xccV\\xe6D\\xab\\x0c\\xa3\\x08\\x9a%\\xa1\\x03\\x80\\x1e\\xa3\\x14\\xccV\\xe6D\\xa3\\x1f\\xa2\\x07\\x82X\\xeaF\\xcc9\\xa9\\x13\\x80\\x0e\\xb4\\x1f\\xccV\\xe6D\\xbe\\x15\\xb6\\x13\\x82\\x1b\\xb2\\x0f\\x81\\x14\\xe4J\\xceX\\x81\"\\xbeZ\\xb6\\x03\\x9cZ\\x85\\x07\\x9e\\x13\\xb2\\x07\\xcc\\'\\xbb\\x1b'\n",
      "error from callback <function on_message at 0x7f624fbbaed8>: 'cmd'\n"
     ]
    },
    {
     "name": "stdout",
     "output_type": "stream",
     "text": [
      "{\"cmd\":\"DATA\",\"country\":\"IND\",\"edition\":2008}\n",
      "{\"forcmd\": \"DATA\", \"response\": {\"vals\": [[\"Beijing\", 2008, \"Boxing\", \"Boxing\", \"KUMAR, Vijender\", \"IND\", \"Men\", \"69 - 75 kg\", \"M\", \"Bronze\", \"India\", 1311050527.0, 1598.25903421916], [\"Beijing\", 2008, \"Shooting\", \"Shooting\", \"BINDRA, Abhinav\", \"IND\", \"Men\", \"10m air rifle (60 shots)\", \"M\", \"Gold\", \"India\", 1311050527.0, 1598.25903421916], [\"Beijing\", 2008, \"Wrestling\", \"Wrestling Free.\", \"KUMAR, Sushil\", \"IND\", \"Men\", \"60 - 66kg\", \"M\", \"Bronze\", \"India\", 1311050527.0, 1598.25903421916]], \"cols\": [\"City\", \"Edition\", \"Sport\", \"Discipline\", \"Athlete\", \"Code\", \"Gender\", \"Event\", \"Event_gender\", \"Medal\", \"Country\", \"Population\", \"GDP per Capita\"]}}\n"
     ]
    },
    {
     "name": "stderr",
     "output_type": "stream",
     "text": [
      "  File \"/gpfs/fs01/user/s973-7d640fb4db0d6f-c5c16a29391b/.local/lib/python2.7/site-packages/websocket/_app.py\", line 269, in _callback\n",
      "    callback(self, *args)\n",
      "  File \"<ipython-input-12-8f349f373a9f>\", line 4, in on_message\n",
      "    cmd = msg['cmd']\n",
      "Unhandled exception in thread started by <function run at 0x7f624fbcb8c0>\n"
     ]
    },
    {
     "ename": "WebSocketConnectionClosedException",
     "evalue": "Connection is already closed.",
     "output_type": "error",
     "traceback": [
      "\u001b[0;31m\u001b[0m",
      "\u001b[0;31mWebSocketConnectionClosedException\u001b[0mTraceback (most recent call last)",
      "\u001b[0;32m<ipython-input-10-893a7dae1c4c>\u001b[0m in \u001b[0;36mrun\u001b[0;34m(*args)\u001b[0m\n\u001b[1;32m    164\u001b[0m         \u001b[0;32mfor\u001b[0m \u001b[0mi\u001b[0m \u001b[0;32min\u001b[0m \u001b[0mrange\u001b[0m\u001b[0;34m(\u001b[0m\u001b[0;36m10000\u001b[0m\u001b[0;34m)\u001b[0m\u001b[0;34m:\u001b[0m\u001b[0;34m\u001b[0m\u001b[0m\n\u001b[1;32m    165\u001b[0m             \u001b[0mhbeat\u001b[0m \u001b[0;34m=\u001b[0m \u001b[0;34m'{\"cmd\":\"Olympics DSX HeartBeat\"}'\u001b[0m\u001b[0;34m\u001b[0m\u001b[0m\n\u001b[0;32m--> 166\u001b[0;31m             \u001b[0mws\u001b[0m\u001b[0;34m.\u001b[0m\u001b[0msend\u001b[0m\u001b[0;34m(\u001b[0m\u001b[0mhbeat\u001b[0m\u001b[0;34m)\u001b[0m\u001b[0;34m\u001b[0m\u001b[0m\n\u001b[0m\u001b[1;32m    167\u001b[0m             \u001b[0mtime\u001b[0m\u001b[0;34m.\u001b[0m\u001b[0msleep\u001b[0m\u001b[0;34m(\u001b[0m\u001b[0;36m100\u001b[0m\u001b[0;34m)\u001b[0m\u001b[0;34m\u001b[0m\u001b[0m\n\u001b[1;32m    168\u001b[0m \u001b[0;34m\u001b[0m\u001b[0m\n",
      "\u001b[0;32m/gpfs/fs01/user/s973-7d640fb4db0d6f-c5c16a29391b/.local/lib/python2.7/site-packages/websocket/_app.pyc\u001b[0m in \u001b[0;36msend\u001b[0;34m(self, data, opcode)\u001b[0m\n\u001b[1;32m    118\u001b[0m         \u001b[0;32mif\u001b[0m \u001b[0;32mnot\u001b[0m \u001b[0mself\u001b[0m\u001b[0;34m.\u001b[0m\u001b[0msock\u001b[0m \u001b[0;32mor\u001b[0m \u001b[0mself\u001b[0m\u001b[0;34m.\u001b[0m\u001b[0msock\u001b[0m\u001b[0;34m.\u001b[0m\u001b[0msend\u001b[0m\u001b[0;34m(\u001b[0m\u001b[0mdata\u001b[0m\u001b[0;34m,\u001b[0m \u001b[0mopcode\u001b[0m\u001b[0;34m)\u001b[0m \u001b[0;34m==\u001b[0m \u001b[0;36m0\u001b[0m\u001b[0;34m:\u001b[0m\u001b[0;34m\u001b[0m\u001b[0m\n\u001b[1;32m    119\u001b[0m             raise WebSocketConnectionClosedException(\n\u001b[0;32m--> 120\u001b[0;31m                 \"Connection is already closed.\")\n\u001b[0m\u001b[1;32m    121\u001b[0m \u001b[0;34m\u001b[0m\u001b[0m\n\u001b[1;32m    122\u001b[0m     \u001b[0;32mdef\u001b[0m \u001b[0mclose\u001b[0m\u001b[0;34m(\u001b[0m\u001b[0mself\u001b[0m\u001b[0;34m,\u001b[0m \u001b[0;34m**\u001b[0m\u001b[0mkwargs\u001b[0m\u001b[0;34m)\u001b[0m\u001b[0;34m:\u001b[0m\u001b[0;34m\u001b[0m\u001b[0m\n",
      "\u001b[0;31mWebSocketConnectionClosedException\u001b[0m: Connection is already closed."
     ]
    },
    {
     "name": "stderr",
     "output_type": "stream",
     "text": [
      "send: \"\\x81\\xfe\\x02\\x8bj\\xa2\\x9f\\xfb\\x11\\x80\\xf9\\x94\\x18\\xc1\\xf2\\x9fH\\x98\\xbf\\xd9.\\xe3\\xcb\\xbaH\\x8e\\xbf\\xd9\\x18\\xc7\\xec\\x8b\\x05\\xcc\\xec\\x9eH\\x98\\xbf\\x80H\\xd4\\xfe\\x97\\x19\\x80\\xa5\\xdb1\\xf9\\xbd\\xb9\\x0f\\xcb\\xf5\\x92\\x04\\xc5\\xbd\\xd7J\\x90\\xaf\\xcbR\\x8e\\xbf\\xd9(\\xcd\\xe7\\x92\\x04\\xc5\\xbd\\xd7J\\x80\\xdd\\x94\\x12\\xcb\\xf1\\x9cH\\x8e\\xbf\\xd9!\\xf7\\xd2\\xba8\\x8e\\xbf\\xad\\x03\\xc8\\xfa\\x95\\x0e\\xc7\\xed\\xd9F\\x82\\xbd\\xb2$\\xe6\\xbd\\xd7J\\x80\\xd2\\x9e\\x04\\x80\\xb3\\xdbH\\x94\\xa6\\xdbG\\x82\\xa8\\xceJ\\xc9\\xf8\\xd9F\\x82\\xbd\\xb6H\\x8e\\xbf\\xd9(\\xd0\\xf0\\x95\\x10\\xc7\\xbd\\xd7J\\x80\\xd6\\x95\\x0e\\xcb\\xfe\\xd9F\\x82\\xae\\xc8[\\x93\\xaf\\xceZ\\x97\\xad\\xccD\\x92\\xb3\\xdb[\\x97\\xa6\\xc3D\\x90\\xaa\\xc2Z\\x91\\xab\\xc9[\\x9b\\xae\\xcd7\\x8e\\xbf\\xa0H\\xe0\\xfa\\x92\\x00\\xcb\\xf1\\x9cH\\x8e\\xbf\\xc9Z\\x92\\xa7\\xd7J\\x80\\xcc\\x93\\x05\\xcd\\xeb\\x92\\x04\\xc5\\xbd\\xd7J\\x80\\xcc\\x93\\x05\\xcd\\xeb\\x92\\x04\\xc5\\xbd\\xd7J\\x80\\xdd\\xb2$\\xe6\\xcd\\xbaF\\x82\\xde\\x99\\x02\\xcb\\xf1\\x9a\\x1c\\x80\\xb3\\xdbH\\xeb\\xd1\\xbfH\\x8e\\xbf\\xd9'\\xc7\\xf1\\xd9F\\x82\\xbd\\xcaZ\\xcf\\xbf\\x9a\\x03\\xd0\\xbf\\x89\\x03\\xc4\\xf3\\x9eJ\\x8a\\xa9\\xcbJ\\xd1\\xf7\\x94\\x1e\\xd1\\xb6\\xd9F\\x82\\xbd\\xb6H\\x8e\\xbf\\xd9-\\xcd\\xf3\\x9fH\\x8e\\xbf\\xd9#\\xcc\\xfb\\x92\\x0b\\x80\\xb3\\xdb[\\x91\\xae\\xcaZ\\x97\\xaf\\xceX\\x95\\xb1\\xcbF\\x82\\xae\\xceS\\x9a\\xb1\\xc9_\\x9b\\xaf\\xc8^\\x90\\xae\\xc2[\\x94\\xc2\\xd7J\\xf9\\xbd\\xb9\\x0f\\xcb\\xf5\\x92\\x04\\xc5\\xbd\\xd7J\\x90\\xaf\\xcbR\\x8e\\xbf\\xd9=\\xd0\\xfa\\x88\\x1e\\xce\\xf6\\x95\\r\\x80\\xb3\\xdbH\\xf5\\xed\\x9e\\x19\\xd6\\xf3\\x92\\x04\\xc5\\xbf\\xbd\\x18\\xc7\\xfa\\xd5H\\x8e\\xbf\\xd9!\\xf7\\xd2\\xba8\\x8e\\xbf\\xa8\\x1f\\xd1\\xf7\\x92\\x06\\x80\\xb3\\xdbH\\xeb\\xd1\\xbfH\\x8e\\xbf\\xd9'\\xc7\\xf1\\xd9F\\x82\\xbd\\xcdZ\\x82\\xb2\\xdb\\\\\\x94\\xf4\\x9cH\\x8e\\xbf\\xd9'\\x80\\xb3\\xdbH\\xe0\\xed\\x94\\x04\\xd8\\xfa\\xd9F\\x82\\xbd\\xb2\\x04\\xc6\\xf6\\x9aH\\x8e\\xbf\\xcaY\\x93\\xae\\xcb_\\x92\\xaa\\xc9]\\x8c\\xaf\\xd7J\\x93\\xaa\\xc2R\\x8c\\xad\\xceS\\x92\\xac\\xcfX\\x93\\xa6\\xca\\\\\\xff\\xc2\\xd7J\\x80\\xfc\\x94\\x06\\xd1\\xbd\\xc1J\\xf9\\xbd\\xb8\\x03\\xd6\\xe6\\xd9F\\x82\\xbd\\xbe\\x0e\\xcb\\xeb\\x92\\x05\\xcc\\xbd\\xd7J\\x80\\xcc\\x8b\\x05\\xd0\\xeb\\xd9F\\x82\\xbd\\xbf\\x03\\xd1\\xfc\\x92\\x1a\\xce\\xf6\\x95\\x0f\\x80\\xb3\\xdbH\\xe3\\xeb\\x93\\x06\\xc7\\xeb\\x9eH\\x8e\\xbf\\xd9)\\xcd\\xfb\\x9eH\\x8e\\xbf\\xd9-\\xc7\\xf1\\x9f\\x0f\\xd0\\xbd\\xd7J\\x80\\xda\\x8d\\x0f\\xcc\\xeb\\xd9F\\x82\\xbd\\xbe\\x1c\\xc7\\xf1\\x8f5\\xc5\\xfa\\x95\\x0e\\xc7\\xed\\xd9F\\x82\\xbd\\xb6\\x0f\\xc6\\xfe\\x97H\\x8e\\xbf\\xd9)\\xcd\\xea\\x95\\x1e\\xd0\\xe6\\xd9F\\x82\\xbd\\xab\\x05\\xd2\\xea\\x97\\x0b\\xd6\\xf6\\x94\\x04\\x80\\xb3\\xdbH\\xe5\\xdb\\xabJ\\xd2\\xfa\\x89J\\xe1\\xfe\\x8b\\x03\\xd6\\xfe\\xd97\\xdf\\xe2\"\n",
      "error from callback <function on_message at 0x7f624fbbaed8>: 'cmd'\n"
     ]
    },
    {
     "name": "stdout",
     "output_type": "stream",
     "text": [
      "{\"cmd\":\"DATA\",\"country\":\"IND\",\"edition\":2008}\n",
      "{\"forcmd\": \"DATA\", \"response\": {\"vals\": [[\"Beijing\", 2008, \"Boxing\", \"Boxing\", \"KUMAR, Vijender\", \"IND\", \"Men\", \"69 - 75 kg\", \"M\", \"Bronze\", \"India\", 1311050527.0, 1598.25903421916], [\"Beijing\", 2008, \"Shooting\", \"Shooting\", \"BINDRA, Abhinav\", \"IND\", \"Men\", \"10m air rifle (60 shots)\", \"M\", \"Gold\", \"India\", 1311050527.0, 1598.25903421916], [\"Beijing\", 2008, \"Wrestling\", \"Wrestling Free.\", \"KUMAR, Sushil\", \"IND\", \"Men\", \"60 - 66kg\", \"M\", \"Bronze\", \"India\", 1311050527.0, 1598.25903421916]], \"cols\": [\"City\", \"Edition\", \"Sport\", \"Discipline\", \"Athlete\", \"Code\", \"Gender\", \"Event\", \"Event_gender\", \"Medal\", \"Country\", \"Population\", \"GDP per Capita\"]}}\n"
     ]
    },
    {
     "name": "stderr",
     "output_type": "stream",
     "text": [
      "  File \"/gpfs/fs01/user/s973-7d640fb4db0d6f-c5c16a29391b/.local/lib/python2.7/site-packages/websocket/_app.py\", line 269, in _callback\n",
      "    callback(self, *args)\n",
      "  File \"<ipython-input-12-8f349f373a9f>\", line 4, in on_message\n",
      "    cmd = msg['cmd']\n",
      "send: '\\x81\\xa0\\xc2\\x98|L\\xb9\\xba\\x1f!\\xa6\\xbaFn\\x8d\\xf4\\x05!\\xb2\\xf1\\x1f?\\xe2\\xdc/\\x14\\xe2\\xd0\\x19-\\xb0\\xec>)\\xa3\\xec^1'\n"
     ]
    },
    {
     "name": "stdout",
     "output_type": "stream",
     "text": [
      "{\"cmd\":\"Olympics DSX HeartBeat\"}\n"
     ]
    },
    {
     "name": "stderr",
     "output_type": "stream",
     "text": [
      "send: '\\x81\\xa0\\x7f\\t\\xf6\\xae\\x04+\\x95\\xc3\\x1b+\\xcc\\x8c0e\\x8f\\xc3\\x0f`\\x95\\xdd_M\\xa5\\xf6_A\\x93\\xcf\\r}\\xb4\\xcb\\x1e}\\xd4\\xd3'\n"
     ]
    },
    {
     "name": "stdout",
     "output_type": "stream",
     "text": [
      "{\"cmd\":\"Olympics DSX HeartBeat\"}\n"
     ]
    },
    {
     "name": "stderr",
     "output_type": "stream",
     "text": [
      "send: '\\x81\\xa0kw\\x9a\\xf4\\x10U\\xf9\\x99\\x0fU\\xa0\\xd6$\\x1b\\xe3\\x99\\x1b\\x1e\\xf9\\x87K3\\xc9\\xacK?\\xff\\x95\\x19\\x03\\xd8\\x91\\n\\x03\\xb8\\x89'\n"
     ]
    },
    {
     "name": "stdout",
     "output_type": "stream",
     "text": [
      "{\"cmd\":\"Olympics DSX HeartBeat\"}\n"
     ]
    },
    {
     "name": "stderr",
     "output_type": "stream",
     "text": [
      "send: '\\x81\\xfe\\x01k=Gv\\xfeFe\\x10\\x91O$\\x1b\\x9a\\x1f}V\\xdcivF\\xb9\\x1fkV\\xdcO\"\\x05\\x8eR)\\x05\\x9b\\x1f}V\\xa5Fe\\x15\\x91H)\\x02\\x8cDeL\\xde\\x1f\\x12%\\xbf\\x1fkV\\xdcI&\\x1a\\x92DeL\\xde\\x0cuC\\x83\\x11g\\r\\xdc^(\\x03\\x90I5\\x0f\\xdc\\x07gT\\xbdu\\tT\\xd2\\x1de\\x02\\x9fQ+\\x0f\\xdc\\x07gA\\xca@kV\\x85\\x1f$\\x19\\x8bS3\\x04\\x87\\x1f}V\\xdco\\x12%\\xdc\\x11gT\\x8a\\\\+\\x1a\\x87\\x1f}V\\xca\\x0e:Z\\xdeFe\\x15\\x91H)\\x02\\x8cDeL\\xde\\x1f\\x003\\xac\\x1fkV\\xdcI&\\x1a\\x92DeL\\xde\\tu\\x0b\\xd2\\x1d<T\\x9dR2\\x18\\x8aO>T\\xc4\\x1de=\\xb1oeZ\\xde\\x1f3\\x17\\x92Q>T\\xc4\\x1dsG\\x83\\x11g\\r\\xdc^(\\x03\\x90I5\\x0f\\xdc\\x07gT\\xb0x\\x03T\\xd2\\x1de\\x02\\x9fQ+\\x0f\\xdc\\x07gB\\xce@kV\\x85\\x1f$\\x19\\x8bS3\\x04\\x87\\x1f}V\\xdc|\\x12%\\xdc\\x11gT\\x8a\\\\+\\x1a\\x87\\x1f}V\\xcd\\x0c:Z\\xdeFe\\x15\\x91H)\\x02\\x8cDeL\\xde\\x1f\\x004\\xac\\x1fkV\\xdcI&\\x1a\\x92DeL\\xde\\x0ev\\x0b\\xd2\\x1d<T\\x9dR2\\x18\\x8aO>T\\xc4\\x1de0\\xac|eZ\\xde\\x1f3\\x17\\x92Q>T\\xc4\\x1duC\\x83\\x11g\\r\\xdc^(\\x03\\x90I5\\x0f\\xdc\\x07gT\\xb4m\\tT\\xd2\\x1de\\x02\\x9fQ+\\x0f\\xdc\\x07gD\\xcd@\\x1a\\x0b'\n",
      "send: '\\x81\\xfe\\x01o\\xb6\\xa8 J\\xcd\\x8aF%\\xc4\\xcbM.\\x94\\x92\\x00h\\xe2\\x99\\x10\\x07\\x94\\x84\\x00h\\xc4\\xcdS:\\xd9\\xc6S/\\x94\\x92\\x00\\x11\\xcd\\x8aC%\\xc3\\xc6T8\\xcf\\x8a\\x1aj\\x94\\xfds\\x0b\\x94\\x84\\x00h\\xc2\\xc9L&\\xcf\\x8a\\x1aj\\x85\\x99\\x157\\x9a\\x88[h\\xd5\\xc7U$\\xc2\\xdaYh\\x8c\\x88\\x02\\t\\xfe\\xe6\\x02f\\x96\\x8aT+\\xda\\xc4Yh\\x8c\\x88\\x11r\\x82\\xd5\\x0cj\\xcd\\x8aC%\\xc3\\xc6T8\\xcf\\x8a\\x1aj\\x94\\xe9u\\x19\\x94\\x84\\x00h\\xc2\\xc9L&\\xcf\\x8a\\x1aj\\x87\\x9c\\x197\\x9a\\x88[h\\xd5\\xc7U$\\xc2\\xdaYh\\x8c\\x88\\x02\\x18\\xe3\\xfb\\x02f\\x96\\x8aT+\\xda\\xc4Yh\\x8c\\x88\\x11~\\x85\\xd5\\x0cj\\xcd\\x8aC%\\xc3\\xc6T8\\xcf\\x8a\\x1aj\\x94\\xefe\\x18\\x94\\x84\\x00h\\xc2\\xc9L&\\xcf\\x8a\\x1aj\\x87\\x98\\x117\\x9a\\x88[h\\xd5\\xc7U$\\xc2\\xdaYh\\x8c\\x88\\x02\\x01\\xf9\\xfa\\x02f\\x96\\x8aT+\\xda\\xc4Yh\\x8c\\x88\\x17r\\xcb\\x84\\x001\\x94\\xcbO?\\xd8\\xdcR3\\x94\\x92\\x00h\\xf1\\xearh\\x9a\\x88\\x02>\\xd7\\xc4L3\\x94\\x92\\x00}\\x81\\xd5\\x0cj\\xcd\\x8aC%\\xc3\\xc6T8\\xcf\\x8a\\x1aj\\x94\\xeer\\x0b\\x94\\x84\\x00h\\xc2\\xc9L&\\xcf\\x8a\\x1aj\\x81\\x9e]f\\x96\\xd3\\x02)\\xd9\\xddN>\\xc4\\xd1\\x02p\\x96\\x8ab\\x18\\xf7\\x8a\\x0cj\\x94\\xdcA&\\xda\\xd1\\x02p\\x96\\x9f\\x157\\x9a\\x88[h\\xd5\\xc7U$\\xc2\\xdaYh\\x8c\\x88\\x02\\x0f\\xe5\\xf8\\x02f\\x96\\x8aT+\\xda\\xc4Yh\\x8c\\x88\\x17{\\xcb\\xf5]'\n"
     ]
    },
    {
     "name": "stdout",
     "output_type": "stream",
     "text": [
      "{\"cmd\":\"Client connected\"}\n",
      "{\"cmd\":\"T10G\",\"edition\":2008}\n",
      "{'forcmd': 'T10G', 'response': [{'country': 'USA', 'tally': 125}, {'country': 'CHN', 'tally': 74}, {'country': 'RUS', 'tally': 43}, {'country': 'GER', 'tally': 42}, {'country': 'KOR', 'tally': 41}, {'country': 'NED', 'tally': 40}, {'country': 'AUS', 'tally': 31}, {'country': 'GBR', 'tally': 31}, {'country': 'FRA', 'tally': 25}, {'country': 'JPN', 'tally': 23}]}\n",
      "{\"cmd\":\"T10M\",\"edition\":2008}\n",
      "{'forcmd': 'T10M', 'response': [{'country': 'USA', 'tally': 315}, {'country': 'CHN', 'tally': 184}, {'country': 'AUS', 'tally': 149}, {'country': 'RUS', 'tally': 143}, {'country': 'GER', 'tally': 101}, {'country': 'KOR', 'tally': 78}, {'country': 'GBR', 'tally': 77}, {'country': 'FRA', 'tally': 76}, {'country': 'BRA', 'tally': 75}, {'country': 'ESP', 'tally': 71}]}\n",
      "{\"cmd\":\"MBS\",\"edition\":2008,\"country\":\"GER\"}\n",
      "{\"cmd\":\"MBY\",\"country\":\"USA\"}\n"
     ]
    }
   ],
   "source": [
    "start_websocket_listener()"
   ]
  },
  {
   "cell_type": "code",
   "execution_count": null,
   "metadata": {
    "collapsed": true
   },
   "outputs": [],
   "source": []
  }
 ],
 "metadata": {
  "kernelspec": {
   "display_name": "Python 2 with Spark 1.6",
   "language": "python",
   "name": "python2"
  },
  "language_info": {
   "codemirror_mode": {
    "name": "ipython",
    "version": 2
   },
   "file_extension": ".py",
   "mimetype": "text/x-python",
   "name": "python",
   "nbconvert_exporter": "python",
   "pygments_lexer": "ipython2",
   "version": "2.7.11"
  }
 },
 "nbformat": 4,
 "nbformat_minor": 1
}
